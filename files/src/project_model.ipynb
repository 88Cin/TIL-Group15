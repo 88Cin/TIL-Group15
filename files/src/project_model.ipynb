{
 "cells": [
  {
   "cell_type": "code",
   "execution_count": 29,
   "id": "d219c258",
   "metadata": {},
   "outputs": [],
   "source": [
    "import zarr\n",
    "import numpy as np\n",
    "import pandas as pd\n",
    "import matplotlib.pyplot as plt\n",
    "import csv"
   ]
  },
  {
   "cell_type": "code",
   "execution_count": 30,
   "id": "964c7a4d",
   "metadata": {},
   "outputs": [
    {
     "ename": "",
     "evalue": "",
     "output_type": "error",
     "traceback": [
      "\u001b[1;31m在当前单元格或上一个单元格中执行代码时 Kernel 崩溃。请查看单元格中的代码，以确定故障的可能原因。有关详细信息，请单击 <a href='https://aka.ms/vscodeJupyterKernelCrash'>此处</a>。有关更多详细信息，请查看 Jupyter <a href='command:jupyter.viewOutput'>log</a>。"
     ]
    }
   ],
   "source": [
    "def load_single_data(i):\n",
    "    data = zarr.open('.\\dataset\\CarFollowing/trainHH.zarr', mode='a')\n",
    "    start, end = data.index_range[i]\n",
    "\n",
    "    size_lead = 4.85              # this is for AV\n",
    "    size_lead = data.lead_size[i] # this is for HV\n",
    "    size_follow = data.follow_size[i]\n",
    "\n",
    "    # get timestamps\n",
    "    timestamps = data.timestamp[start:end]\n",
    "    # get position, speed, and acceleration\n",
    "    \n",
    "    x_lead = data.lead_centroid[start:end]\n",
    "    v_lead = data.lead_velocity[start:end]\n",
    "    a_lead = data.lead_acceleration[start:end]\n",
    "    id=np.ones((1,x_lead.shape[0]))*i\n",
    "    x_follow = data.follow_centroid[start:end]\n",
    "    v_follow = data.follow_velocity[start:end]\n",
    "    a_follow = data.follow_acceleration[start:end]\n",
    "    array = np.vstack((id, x_lead, v_lead, a_lead, x_follow, v_follow, a_follow,timestamps))\n",
    "    return array.T\n",
    "\n",
    "def load_multi_data(i):\n",
    "    for x in range(i+1):\n",
    "        single_data = load_single_data(x)\n",
    "        if x == 0:\n",
    "            multi_data = single_data\n",
    "        else:\n",
    "            multi_data = np.vstack([multi_data, single_data])\n",
    "    return multi_data\n",
    "np.savetxt( \"site.csv\", load_multi_data(1000), delimiter=\",\" )"
   ]
  },
  {
   "cell_type": "code",
   "execution_count": 28,
   "id": "a6b0c8fd",
   "metadata": {},
   "outputs": [
    {
     "data": {
      "text/html": [
       "<div>\n",
       "<style scoped>\n",
       "    .dataframe tbody tr th:only-of-type {\n",
       "        vertical-align: middle;\n",
       "    }\n",
       "\n",
       "    .dataframe tbody tr th {\n",
       "        vertical-align: top;\n",
       "    }\n",
       "\n",
       "    .dataframe thead th {\n",
       "        text-align: right;\n",
       "    }\n",
       "</style>\n",
       "<table border=\"1\" class=\"dataframe\">\n",
       "  <thead>\n",
       "    <tr style=\"text-align: right;\">\n",
       "      <th></th>\n",
       "      <th>0.000000000000000000e+00</th>\n",
       "      <th>0.000000000000000000e+00.1</th>\n",
       "      <th>4.183219729128531128e+00</th>\n",
       "      <th>1.946269610757445978e+00</th>\n",
       "      <th>-1.271794164429400809e+01</th>\n",
       "      <th>1.396879813881541477e+00</th>\n",
       "      <th>2.857759383157767452e-01</th>\n",
       "    </tr>\n",
       "  </thead>\n",
       "  <tbody>\n",
       "    <tr>\n",
       "      <th>0</th>\n",
       "      <td>0.0</td>\n",
       "      <td>0.545917</td>\n",
       "      <td>4.416340</td>\n",
       "      <td>1.944384</td>\n",
       "      <td>-12.731980</td>\n",
       "      <td>1.535397</td>\n",
       "      <td>0.336690</td>\n",
       "    </tr>\n",
       "    <tr>\n",
       "      <th>1</th>\n",
       "      <td>0.0</td>\n",
       "      <td>1.062604</td>\n",
       "      <td>4.568766</td>\n",
       "      <td>1.943686</td>\n",
       "      <td>-12.603732</td>\n",
       "      <td>1.372667</td>\n",
       "      <td>0.395086</td>\n",
       "    </tr>\n",
       "    <tr>\n",
       "      <th>2</th>\n",
       "      <td>0.0</td>\n",
       "      <td>1.607011</td>\n",
       "      <td>4.753522</td>\n",
       "      <td>1.944021</td>\n",
       "      <td>-12.466701</td>\n",
       "      <td>1.306147</td>\n",
       "      <td>0.693090</td>\n",
       "    </tr>\n",
       "    <tr>\n",
       "      <th>3</th>\n",
       "      <td>0.0</td>\n",
       "      <td>2.177451</td>\n",
       "      <td>4.953015</td>\n",
       "      <td>1.945415</td>\n",
       "      <td>-12.303733</td>\n",
       "      <td>1.337162</td>\n",
       "      <td>1.143289</td>\n",
       "    </tr>\n",
       "    <tr>\n",
       "      <th>4</th>\n",
       "      <td>0.0</td>\n",
       "      <td>2.774419</td>\n",
       "      <td>5.151196</td>\n",
       "      <td>1.947731</td>\n",
       "      <td>-12.096568</td>\n",
       "      <td>1.483107</td>\n",
       "      <td>1.667380</td>\n",
       "    </tr>\n",
       "  </tbody>\n",
       "</table>\n",
       "</div>"
      ],
      "text/plain": [
       "   0.000000000000000000e+00  0.000000000000000000e+00.1  \\\n",
       "0                       0.0                    0.545917   \n",
       "1                       0.0                    1.062604   \n",
       "2                       0.0                    1.607011   \n",
       "3                       0.0                    2.177451   \n",
       "4                       0.0                    2.774419   \n",
       "\n",
       "   4.183219729128531128e+00  1.946269610757445978e+00  \\\n",
       "0                  4.416340                  1.944384   \n",
       "1                  4.568766                  1.943686   \n",
       "2                  4.753522                  1.944021   \n",
       "3                  4.953015                  1.945415   \n",
       "4                  5.151196                  1.947731   \n",
       "\n",
       "   -1.271794164429400809e+01  1.396879813881541477e+00  \\\n",
       "0                 -12.731980                  1.535397   \n",
       "1                 -12.603732                  1.372667   \n",
       "2                 -12.466701                  1.306147   \n",
       "3                 -12.303733                  1.337162   \n",
       "4                 -12.096568                  1.483107   \n",
       "\n",
       "   2.857759383157767452e-01  \n",
       "0                  0.336690  \n",
       "1                  0.395086  \n",
       "2                  0.693090  \n",
       "3                  1.143289  \n",
       "4                  1.667380  "
      ]
     },
     "execution_count": 28,
     "metadata": {},
     "output_type": "execute_result"
    }
   ],
   "source": [
    "data=pd.read_csv('site.csv')\n",
    "data.head()"
   ]
  },
  {
   "cell_type": "code",
   "execution_count": null,
   "id": "95961011",
   "metadata": {},
   "outputs": [],
   "source": []
  }
 ],
 "metadata": {
  "kernelspec": {
   "display_name": "Python 3.7.13 ('TIL6022')",
   "language": "python",
   "name": "python3"
  },
  "language_info": {
   "codemirror_mode": {
    "name": "ipython",
    "version": 3
   },
   "file_extension": ".py",
   "mimetype": "text/x-python",
   "name": "python",
   "nbconvert_exporter": "python",
   "pygments_lexer": "ipython3",
   "version": "3.11.4"
  },
  "vscode": {
   "interpreter": {
    "hash": "235118494f6096765c1deb9d143943fcb560fd7b79d70fb1cbb738bbc852222c"
   }
  }
 },
 "nbformat": 4,
 "nbformat_minor": 5
}
