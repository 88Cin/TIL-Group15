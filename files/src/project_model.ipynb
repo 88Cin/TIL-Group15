{
 "cells": [
  {
   "cell_type": "code",
   "execution_count": 1,
   "id": "d219c258",
   "metadata": {},
   "outputs": [],
   "source": [
    "import zarr\n",
    "import numpy as np\n",
    "import pandas as pd\n",
    "import matplotlib.pyplot as plt"
   ]
  },
  {
   "cell_type": "code",
   "execution_count": 34,
   "id": "964c7a4d",
   "metadata": {},
   "outputs": [],
   "source": [
    "def load_single_data(i):\n",
    "    data = zarr.open('H:\\Desktop\\Q1\\python\\project\\TIL-Group15\\dataset\\CarFollowing/trainHH.zarr', mode='a')\n",
    "    start, end = data.index_range[i]\n",
    "    # get timestamps\n",
    "    timestamps = data.timestamp[start:end]\n",
    "    # get position, speed, and acceleration\n",
    "    \n",
    "    x_lead = data.lead_centroid[start:end]\n",
    "    v_lead = data.lead_velocity[start:end]\n",
    "    a_lead = data.lead_acceleration[start:end]\n",
    "    id=np.ones((1,x_lead.shape[0]))*i\n",
    "    x_follow = data.follow_centroid[start:end]\n",
    "    v_follow = data.follow_velocity[start:end]\n",
    "    a_follow = data.follow_acceleration[start:end]\n",
    "    array = np.vstack((id, x_lead, v_lead, a_lead, x_follow, v_follow, a_follow, timestamps))\n",
    "    return array.T\n",
    "\n",
    "def load_size(i):\n",
    "    data = zarr.open('H:\\Desktop\\Q1\\python\\project\\TIL-Group15\\dataset\\CarFollowing/trainHH.zarr', mode='a')\n",
    "    #size_lead = 4.85              # this is for AV\n",
    "    size_lead = data.lead_size[i] # this is for HV\n",
    "    size_follow = data.follow_size[i]\n",
    "    id=np.ones(1)*i\n",
    "    array = np.vstack((id, size_lead, size_follow)) \n",
    "    return array.T\n",
    "\n",
    "def load_multi_size(i):\n",
    "    multi_data = None\n",
    "    for x in range(i + 1):\n",
    "        single_data1 = load_size(x)\n",
    "        if x == 0:\n",
    "            multi_data = single_data1\n",
    "        else:\n",
    "            multi_data = np.vstack([multi_data, single_data1])\n",
    "    return multi_data\n",
    "def load_multi_data(i):\n",
    "    multi_data = None\n",
    "    for x in range(i+1):\n",
    "        single_data = load_single_data(x)\n",
    "        if x == 0:\n",
    "            multi_data = single_data\n",
    "        else:\n",
    "            multi_data = np.vstack([multi_data, single_data])\n",
    "    return multi_data\n",
    "p=int(input('type in the number you want'))\n",
    "np.savetxt( \"multi_data.csv\", load_multi_data(p), delimiter=\",\" )\n",
    "np.savetxt( \"multi_size.csv\", load_multi_size(p), delimiter=\",\" )"
   ]
  },
  {
   "cell_type": "code",
   "execution_count": 87,
   "id": "a6b0c8fd",
   "metadata": {},
   "outputs": [],
   "source": [
    "data=np.loadtxt('multi_data.csv',delimiter=\",\" )\n",
    "data_size=np.loadtxt('multi_size.csv',delimiter=\",\" )\n",
    "#data_size.columns = [\"ID\", \"size_lead\", \"size_follow\"]\n",
    "#data.columns = [\"ID\",\"x_lead\", \"v_lead\", \"a_lead\", \"x_follow\", \"v_follow\", \"a_follow\", \"timestamps\"]\n"
   ]
  },
  {
   "cell_type": "code",
   "execution_count": 109,
   "id": "95961011",
   "metadata": {},
   "outputs": [],
   "source": [
    "for i in range(p):\n",
    "    x_data=np.squeeze(data[np.where(data[:,0]==i),:],0)\n",
    "    x_size=np.squeeze(data_size[np.where(data_size[:,0]==i),:],0)\n",
    "    \n",
    "    x_lead=x_data[:,1]\n",
    "    x_follow=x_data[:,4]\n",
    "    size_lead = x_size[:,1]\n",
    "    size_follow = x_size[:,2]\n",
    "    A_distance=[]\n",
    "    B_distance=[]\n",
    "    for y in range(1,x_lead.size):\n",
    "        A = x_lead[y] - x_follow[y] - 0.5 * (size_lead[0] + size_follow[0])\n",
    "        B = x_lead[y] - x_follow[y] - 0.5 * (size_follow[0] - size_lead[0])\n",
    "        A_distance.append(A)\n",
    "        B_distance.append(B)\n",
    "    array = np.vstack((A_distance,B_distance))\n",
    "    np.savetxt( \"size.csv\", array.T, delimiter=\",\" ) \n",
    "\n",
    "\n",
    "\n",
    "\n",
    "\n",
    "\n",
    "\n",
    "\n",
    "\n"
   ]
  }
 ],
 "metadata": {
  "kernelspec": {
   "display_name": "Python 3.7.13 ('TIL6022')",
   "language": "python",
   "name": "python3"
  },
  "language_info": {
   "codemirror_mode": {
    "name": "ipython",
    "version": 3
   },
   "file_extension": ".py",
   "mimetype": "text/x-python",
   "name": "python",
   "nbconvert_exporter": "python",
   "pygments_lexer": "ipython3",
   "version": "3.11.4"
  },
  "vscode": {
   "interpreter": {
    "hash": "235118494f6096765c1deb9d143943fcb560fd7b79d70fb1cbb738bbc852222c"
   }
  }
 },
 "nbformat": 4,
 "nbformat_minor": 5
}
