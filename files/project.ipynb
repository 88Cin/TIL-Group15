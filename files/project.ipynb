{
 "cells": [
  {
   "attachments": {},
   "cell_type": "markdown",
   "metadata": {},
   "source": [
    "# Project Group - 15\n",
    "Members: \n",
    "\n",
    "         Guoheng Li 5939259\n",
    "\n",
    "         Junpeng Li 5921856\n",
    "\n",
    "         Haosen Luo 5936195\n",
    "         \n",
    "         Chenwei Peng 591838\n"
   ]
  },
  {
   "attachments": {},
   "cell_type": "markdown",
   "metadata": {},
   "source": [
    "# Research Objective\n",
    "\n",
    "## Objective\n",
    "\n",
    "Based on its importance, a variety of car following models are put forward trying to model such phenomenon. However, different models are based on different assumptions, formulations and methodologies, which entails real-world data to test their limitations and advantages, for instance, some of them can't account for some specific car following patterns. Nowadays, with preprocessed real-world car following data, we are able to calibrate the car following phenomana better and more precisely.\n",
    "Therefore, in this project the objectives are:\n",
    "\n",
    "**用提问的方式表达**\n",
    "1. Can we extract some correlations among some car following variables, for instance the headway, follower's velocity and acceleration? Based on these correlations, in what way are the IDM and Gipps models formulated?\n",
    "\n",
    "2. How can we implement these models in Python, and how can we calibrate the hyperparameters? Are there some pros and cons between these two models? How can we possibly further improve these two models?\n"
   ]
  },
  {
   "cell_type": "markdown",
   "metadata": {},
   "source": [
    "# Contribution Statement\n",
    "\n",
    "Work in Process\n",
    "\n",
    "*Be specific. Some of the tasks can be coding (expect everyone to do this), background research, conceptualisation, visualisation, data analysis, data modelling*"
   ]
  },
  {
   "cell_type": "markdown",
   "metadata": {},
   "source": [
    "**Author 1**: Guoheng Li\n",
    "\n",
    "**Author 2**: Junpeng Li\n",
    "\n",
    "**Author 3**: Chenwei Peng\n",
    "\n",
    "**Author 4**: Haosen Luo"
   ]
  },
  {
   "cell_type": "markdown",
   "metadata": {},
   "source": [
    "\n",
    "# 1. Introduction\n",
    "\n",
    "Researching car following models is critical in transportation engineering and urban planning. These models provide insights essential for congestion management, infrastructure planning, environmental impact assessment, and safety improvement. By understanding traffic dynamics, decision-makers can optimize traffic flow, identify congestion-prone areas, and design efficient road networks. This leads to reduced emissions, energy conservation, and increased road safety. Traffic flow models also aid in public transportation optimization, enhancing services for commuters. They support data-driven decision-making and offer economic benefits by improving productivity and reducing fuel consumption. In essence, traffic flow models are invaluable tools that inform decisions, ultimately shaping sustainable urban development and improving overall quality of life."
   ]
  },
  {
   "cell_type": "markdown",
   "metadata": {},
   "source": [
    "# 2. Data\n",
    "\n",
    "## 2.1 Data Used\n",
    "\n",
    "In this project, we used car-following datasets provided in [this paper](https://arxiv.org/pdf/2305.18921.pdf), which is originally collected by autonomous vehicles (AVs) from the open Lyft level-5 dataset to study car-following behavior in mixed traffic flow. The dataset consisted of over 29,000 HV-following-AV (H-A) and 42,000 HV-following-HV (H-H) car-following segments. The dataset includes over 1000 hours of perception and motion data collected over a 4-month period from urban and suburban environments along a fixed route in Palo Alto, California. The dataset comprises approximately 170,000 scenes, with each scene spanning approximately 25 seconds. Each scene includes the movement states of perceived vehicles, cyclists, and pedestrians, as well as the position and orientation of the autonomous vehicle (AV). \n",
    "\n",
    "Then, data is processed using a data processing framework that involved several steps. First, CF pairs and their raw trajectories were selected from the unlabelled dataset based on certain rules. Then, the raw data quality was assessed through anomaly analysis. The next step involved enhancing the raw data. For AVs, missing segments were filled and smooth position and speed were estimated. For HVs, missing data around 0-speed points was filled using a jerk-minimization method. Finally, vehicle size processing was performed to split the enhanced dataset into two groups: H-A and H-H.\n",
    "\n",
    "The result of data processing was an enhanced dataset that had higher quality and covered diverse regimes for calibrating car-following models. The enhanced data showed a reduction in anomalies, particularly in abnormal jerk sign inversion. This processed dataset can be further used for investigating car-following behavior in mixed urban traffic and the impact of AVs on traffic.\n",
    "\n",
    "With diverse algorithms, we have obtained the data of the regime of each vehicle from an enhanced dataset. In the dataset of regime of each vehicle pairs, we have considered 7 regimes: \n",
    "  1. free acceleration (Fa)\n",
    "  2. free deceleration not caused by the leading vehicle (Fd)\n",
    "  3. cruising at a desired speed (C)\n",
    "  4. acceleration following a leading vehicle (A)\n",
    "  5. deceleration following a leading vehicle (D)\n",
    "  6. constant speed following (F)\n",
    "  7. standstill (S)\n",
    "\n",
    "The dataset also provides the time duration of each regime as well as the combination for each car-following case id which is for further analysis.\n",
    "\n",
    "**All the steps above are already done before dataset published, thus how to impletement these process is out of scope of our project, our project focuses on visualization, modelling and calibration on car following models, using the processed data**\n"
   ]
  },
  {
   "cell_type": "markdown",
   "metadata": {},
   "source": [
    "## 2.2 Data Preprocessing Pipeline\n",
    "\n",
    "### 2.2.1 data processing\n",
    "We will clean the data, reduce data noise, and improve the quality of the data, making it more suitable for subsequent analysis or modeling tasks.\n",
    "\n",
    "### 2.2.2 Data sorting\n",
    "We will classify the following 7 modes based on size, centroid, acceleration and velocity: free acceleration (Fa), free deceleration not caused by the leading vehicle (Fd), cruising at a desired speed (C), acceleration following a leading vehicle (A), deceleration following a leading vehicle (D), constant speed following (F), and standstill (S)."
   ]
  },
  {
   "cell_type": "markdown",
   "metadata": {},
   "source": [
    "## 3 Pipeline"
   ]
  },
  {
   "attachments": {},
   "cell_type": "markdown",
   "metadata": {},
   "source": [
    "### 3.2.1 data exploration and plotting\n",
    "In order to explore the relations between the given car following dataset and the common car following models, and to derive some inspirations on how these models are developed, we resort to data exploration methods to help analyzing. \n",
    "\n",
    "Here are several ways to perform calculations on data：\n",
    "- Headspace：The distance between the heading of the front car and the rear car.\n",
    "- Vehicle distance: The distance from the rear bumper of the front vehicle to the front of the rear vehicle.\n",
    "- Effect of size on distance：Effect of vehicle size on distance between vehicles.\n",
    "- Statistics: Variance / mean.\n",
    "- Analyze different regimes: Relationships between vehicle attributes.\n",
    "By analylising these \n",
    "\n",
    "### 3.2.2 Modelling\n",
    "We will apply the Intelligent Driver Model and Gipps Model to verify their applications on different regimes, and try analysing their behaviour patterns as well pros and cons. However, to do so there are some parameters left to be filled in. Therefore, we have to calibrate the parameters first objectively and comprehensively, i.e. we decided to calibrate the parameters by using algorithms to minimize the total car following trajectory loss, and apply them to different regimes due to the huge discrepancy among various patterns.\n",
    "\n",
    "\n",
    "![IMAGE](./images/image.png)"
   ]
  },
  {
   "cell_type": "markdown",
   "metadata": {},
   "source": [
    "# 4. Data Exploration"
   ]
  },
  {
   "cell_type": "code",
   "execution_count": 3,
   "metadata": {},
   "outputs": [],
   "source": [
    "# import dependent libraries\n",
    "\n",
    "import numpy as np\n",
    "import matplotlib.pyplot as plt\n",
    "import pandas as pd"
   ]
  },
  {
   "cell_type": "markdown",
   "metadata": {},
   "source": [
    "## 4.1 对数据进行描述\n",
    "\n",
    "### 4.1.1 相关系数图\n",
    "最intuitive的想法（不用分类）\n",
    "\n",
    "1. v和车头间距的关系 / a和车头间距的关系\n",
    "2. ...balabala\n",
    "\n",
    "### 4.1.2 直方图\n",
    "\n",
    "1. 速度，加速度，车头间距做频率分布直方图分析（对不同的regimes）\n",
    "\n",
    "- 为什么会出现那么多0?\n",
    "\n",
    "2. 车辆size的直方图\n",
    "\n",
    "### 4.1.3 饼图\n",
    "\n",
    "1. HH HA 分开探讨 不同regimes下的数量占比\n",
    "\n",
    "## 4.2 数据关系分析\n",
    "\n",
    "1. 为什么要划分ADF....这些模式： 通过直方图来反映各个量看看有没有区别\n",
    "\n",
    "2. IDM模型需要至少ADF的数据，那么IDM模型是怎么构建的，参数之间有什么关系（可以直接用ADF数据）:\n",
    "    - 车头间距和加速度的关系\n",
    "    - 速度和理想速度的比值（？）（分场景ADF+1 / ADF / ADF+2）的差距会对加速度有什么影响"
   ]
  },
  {
   "cell_type": "markdown",
   "metadata": {},
   "source": [
    "# 5. Models, Calibrations & Pros and Cons"
   ]
  },
  {
   "cell_type": "markdown",
   "metadata": {},
   "source": [
    "While there are many available models for car following, different kinds of models account for different behaviours. Based on the data exploration and the conclusion we made in the last part:\n",
    "- 1\n",
    "- 2\n",
    "- 3\n",
    "\n",
    "In recent studies, common car following models we are to discuss, are usually devided into 3 types.\n",
    "\n",
    "## 5.1 Models\n",
    "\n",
    "### 5.1.1 Desired Measures Models (Intelligent Driver Model)\n",
    "\n",
    "The model presumes that each driver has a desired velocity, headway, and the drivers try to minimize the gap between the actual value and the desired value, while constrained by a variety of conditions, for instance safety distances. Intelligent Driver Model(IDM) is catagorized in this catagorization:\n",
    "\n",
    "Drivers try to minimize the following distance, and minimize both the speed difference and desired headway as well. In IDM model:\n",
    "\n",
    "1. The influence factors include own speed $v$, the bumper-to-bumper gap $s$ to the lead vehicle, and the difference of the speed $\\Delta v = v - v_{\\text{lead}}$\n",
    "\n",
    "2. The model only outputs the acceleration $a$ on the following car.\n",
    "\n",
    "3. The model parameters are driving styles.\n"
   ]
  },
  {
   "cell_type": "markdown",
   "metadata": {},
   "source": [
    "The IDM model equations are fomulated as follows:\n",
    "$$\n",
    "\\begin{aligned}\n",
    "&\\frac{dv}{dt} = a\\left[1 - \\left(\\frac{v}{v_0}\\right)^\\sigma - \\left(\\frac{s^*(v, \\Delta v)}{s}\\right)^2 \\right]\\\\\n",
    "\n",
    "&s^*(v, \\Delta v) = s_0 + \\max\\left[0, \\left(vT+\\frac{v\\Delta v}{2 \\sqrt{ab}}\\right)\\right]\n",
    "\\end{aligned}\n",
    "$$"
   ]
  },
  {
   "cell_type": "code",
   "execution_count": 4,
   "metadata": {},
   "outputs": [],
   "source": [
    "class Car:\n",
    "    \n",
    "    def __init__(self, size: float, xs: np.array = [], vs: np.array = [], a_s: np.array = []) -> None:\n",
    "        self.vs = vs\n",
    "        self.xs = xs\n",
    "        self.a_s = a_s\n",
    "        self.size = size"
   ]
  },
  {
   "cell_type": "code",
   "execution_count": 7,
   "metadata": {},
   "outputs": [],
   "source": [
    "## IDM models with arbitary parameters\n",
    "\n",
    "class IDM:\n",
    "    \n",
    "    def __init__(self, param: dict) -> None:\n",
    "        ## dict = {v0, s0, T, a, b}\n",
    "        self.v0 = param['v0']  # the velocity the vehicle would drive at in free traffic\n",
    "        self.s0 = param['s0'] # a minimum desired net distance.\n",
    "        self.T = param['T'] # the minimum possible time to the vehicle in front\n",
    "        self.a = param['a'] # the maximum vehicle acceleration\n",
    "        self.b = param['b'] # a positive number (comfortable breaking deceleration)\n",
    "        self.sigma = 4 # exponent factor, usually set to 4\n",
    "\n",
    "    def get_desired_s(self, v_this, delta_v_i):\n",
    "        \n",
    "        desired_s = v_this * self.T + v_this * delta_v_i / (2 * np.sqrt(self.a * self.b))\n",
    "        return self.s0 + max(0, desired_s)\n",
    "    \n",
    "    def get_new_a(self, v_this, v_front, s_this):\n",
    "        \n",
    "        delta_v_i = v_this - v_front\n",
    "        return self.a * (1 - np.power(v_this / self.v0, self.sigma) \n",
    "                            - np.power((self.get_desired_s(v_this, delta_v_i) / s_this), 2))\n",
    "    \n",
    "    def update(self, lead_car: Car, this_car: Car, time_step: float):\n",
    "        \"\"\"\n",
    "            \n",
    "        \"\"\"\n",
    "        assert this_car is not None\n",
    "        \n",
    "        N = len(lead_car.xs)\n",
    "        \n",
    "        for i in range(1, N):\n",
    "            this_v_now = this_car.vs[i - 1]\n",
    "            lead_v_now = lead_car.vs[i - 1]\n",
    "            this_s_now = this_car.xs[i - 1]\n",
    "            lead_s_now = lead_car.xs[i - 1]\n",
    "            \n",
    "            gap_now = lead_s_now - this_s_now - lead_car.size  # the distance is head's distance\n",
    "            this_v_a = self.get_new_a(this_v_now, lead_v_now, gap_now)\n",
    "            # update\n",
    "            if this_v_now + this_v_a * time_step < 0:\n",
    "                this_car.vs.append(0)\n",
    "            else:\n",
    "                this_car.vs.append(this_car.vs[i - 1] + time_step * this_v_a)\n",
    "            this_car.xs.append(this_car.xs[i - 1] + this_car.vs[i - 1] * time_step + 1 / 2 * this_v_a * pow(time_step, 2))\n",
    "            this_car.a_s.append(this_v_a)"
   ]
  },
  {
   "attachments": {},
   "cell_type": "markdown",
   "metadata": {},
   "source": [
    "### 5.1.2 Gipps Model"
   ]
  },
  {
   "cell_type": "code",
   "execution_count": 18,
   "metadata": {},
   "outputs": [],
   "source": [
    "## Gipps model\n",
    "\n",
    "class Gipps:\n",
    "    \n",
    "    def __init__(self, param) -> None:\n",
    "        self.rect_time = param[\"rect_time\"]\n",
    "        self.max_b = param[\"max_b\"]\n",
    "        self.max_a = param[\"max_a\"]\n",
    "\n",
    "\n",
    "    def update(self, lead_car: Car, this_car: Car, time_step: float):\n",
    "\n",
    "        N = len(lead_car.xs)\n",
    "        this_car.a_s = None  # Gipps model doesn't need a for estimating\n",
    "        \n",
    "        for i in range(1, N):\n",
    "            \n",
    "            this_v_now = this_car.vs[i - 1]\n",
    "            lead_v_now = lead_car.vs[i - 1]\n",
    "            this_s_now = this_car.xs[i - 1]\n",
    "            lead_s_now = lead_car.xs[i - 1]\n",
    "\n",
    "            this_v = - self.max_b * self.rect_time + np.sqrt(pow(self.max_b, 2) * pow(self.rect_time, 2) + self.max_b * (2*(lead_s_now - this_s_now - lead_car.size)- self.rect_time * this_v_now + pow(lead_v_now, 2)/self.max_b))\n",
    "\n",
    "            this_car.vs.append(this_v)\n",
    "            this_car.xs.append(this_car.xs[i - 1] + this_car.vs[i - 1] * time_step)\n",
    "\n",
    "        "
   ]
  },
  {
   "cell_type": "code",
   "execution_count": 17,
   "metadata": {},
   "outputs": [
    {
     "name": "stdout",
     "output_type": "stream",
     "text": [
      "TOTAL TIME STEP: 220\n",
      "[-25.26, -24.103, -23.20675163551545, -22.303793489349555, -21.394766756546954, -20.481691906253506, -19.567004168692087, -18.65091621941771, -17.734085174364974, -16.815482333259965, -15.892858682329654, -14.965485772179083, -14.03327775385833, -13.097380674164814, -12.157638245275162, -11.214385210796749, -10.267543577893136, -9.31917839077062, -8.368110211667474, -7.413638790023444, -6.456244910154043, -5.495638196001993, -4.5328473265580795, -3.568160861504268, -2.602055780282545, -1.6347568022172925, -0.6664833908408485, 0.3027159629211492, 1.271217505549198, 2.2410572452000164, 3.2120180308846042, 4.184067080468969, 5.157029723798544, 6.128903140312714, 7.1021098686695145, 8.077805002680316, 9.055158825051269, 10.033754744441264, 11.013175565408911, 11.993027504360661, 12.973126960210713, 13.954108802160691, 14.934216467024342, 15.914734150025977, 16.89691790747811, 17.880649944537062, 18.865976722797786, 19.85274881585841, 20.837702984280423, 21.819972948932023, 22.80154873273013, 23.782796523763626, 24.763859273573576, 25.74457991559913, 26.72468618622785, 27.70362561158683, 28.68105127252552, 29.65616060116898, 30.628805443131473, 31.598566198100066, 32.565816590046374, 33.529740559477396, 34.48925813191968, 35.44403734095212, 36.39341214675724, 37.33739614770935, 38.27579542923588, 39.208075832633256, 40.134461349233476, 41.05587205545151, 41.972178030431245, 42.883318860583515, 43.789094862381326, 44.689446501665664, 45.58410747759938, 46.47151229799662, 47.35219710186824, 48.22531982961368, 49.092155650926145, 49.95257931452176, 50.807807122076426, 51.65641486181143, 52.49743268542656, 53.330120311431955, 54.154363441310764, 54.96918591548161, 55.774559539023734, 56.571579024124915, 57.36086355854902, 58.14264604659439, 58.91644157259354, 59.680923602906375, 60.435381314734855, 61.178082245749124, 61.909863115018396, 62.63065577757454, 63.34155508433745, 64.04337635433886, 64.73710719451559, 65.41718754573994, 66.08194033798017, 66.7312671011925, 67.37059420646086, 68.00224309668668, 68.62893213674398, 69.24875310831904, 69.8596032259861, 70.46178689983694, 71.05544968397888, 71.64212824005116, 72.22222812748701, 72.79341293988055, 73.35579112873269, 73.90896256672569, 74.45092691041951, 74.98065309340852, 75.49859115113864, 76.00541868698011, 76.49994581680683, 76.98159528467556, 77.44840115343892, 77.8998164094724, 78.33581151829296, 78.75522803874938, 79.15662568084778, 79.53944475890137, 79.90313549404888, 80.24743170823534, 80.5712334834792, 80.87504543885719, 81.15935113175466, 81.42330335617457, 81.66656448261627, 81.89019570363409, 82.09246863207356, 82.27431825392823, 82.43568426357949, 82.57714673754262, 82.700285115916, 82.80542158742941, 82.8929642724522, 82.96360978344073, 83.0181857246857, 83.0598470436352, 83.09299154619413, 83.1160814673562, 83.13444019682962, 83.14956180898687, 83.15447870603603, 83.15238453353734, 83.15180050312465, 83.15662214828649, 83.16412071740747, 83.17289746702961, 83.18607736284387, 83.198047599386, 83.20494211958356, 83.21292456654761, 83.22154572797035, 83.2262913521272, 83.22868646876712, 83.23426652196274, 83.23722393251657, 83.24321352589743, 83.24647388840287, 83.25275611462294, 83.26070145240548, 83.26956802486336, 83.27009306657173, 83.27049451873785, 83.2706967481597, 83.27538600943814, 83.2778190110109, 83.2835490838248, 83.28666563107765, 83.29285410103384, 83.30067497470472, 83.30513845423356, 83.31207950056465, 83.3159636660166, 83.3225517906766, 83.32622018168125, 83.3281748325885, 83.32918710753711, 83.32970273043144, 83.32996301834325, 83.3300314506344, 83.33006571064534, 83.3300453501408, 83.33002266863977, 83.3300238343029, 83.32470879686427, 83.32240028297757, 83.321297438155, 83.3256156338967, 83.33242775459351, 83.34058260706198, 83.34949779608871, 83.35878357655785, 83.36835833765346, 83.37390684469663, 83.37202149033496, 83.37111292656596, 83.37066647175931, 83.37038222593354, 83.3648599138296, 83.35663417144195, 83.35318048647264, 83.34594907724329, 83.34285486148192, 83.33580642503698, 83.3327894346295, 83.331369515174, 83.33067879388832, 83.3303379447172, 83.33016861394724, 83.33481450336733, 83.33233009832871, 83.33114756948348, 83.33056960926658]\n",
      "[ 2.25  3.46  4.65  5.75  6.74  7.72  8.67  9.67 10.78 11.93 13.09 14.2\n",
      " 15.32 16.43 17.55 18.57 19.65 20.77 21.87 22.99 24.06 25.12 26.16 27.19\n",
      " 28.21 29.23 30.17 31.21 32.24 33.27 34.29 35.21 36.25 37.35 38.41 39.45\n",
      " 40.47 41.47 42.46 43.48 44.41 45.4  46.45 47.49 48.53 49.56 50.42 51.23\n",
      " 52.14 53.07 54.01 54.94 55.86 56.75 57.62 58.46 59.29 60.11 60.96 61.76\n",
      " 62.51 63.24 63.94 64.63 65.3  65.94 66.58 67.26 67.93 68.6  69.25 69.9\n",
      " 70.52 71.07 71.64 72.16 72.74 73.31 73.93 74.49 75.01 75.5  75.98 76.42\n",
      " 76.86 77.34 77.84 78.35 78.84 79.27 79.67 79.99 80.34 80.68 81.05 81.44\n",
      " 81.86 82.07 82.21 82.34 82.65 83.03 83.49 83.88 84.19 84.5  84.8  85.14\n",
      " 85.48 85.74 86.   86.24 86.42 86.57 86.74 86.93 87.09 87.23 87.33 87.42\n",
      " 87.52 87.61 87.67 87.72 87.76 87.79 87.8  87.81 87.82 87.81 87.79 87.78\n",
      " 87.75 87.73 87.71 87.69 87.68 87.67 87.66 87.65 87.64 87.64 87.65 87.65\n",
      " 87.66 87.67 87.66 87.65 87.65 87.66 87.67 87.68 87.7  87.71 87.71 87.72\n",
      " 87.73 87.73 87.73 87.74 87.74 87.75 87.75 87.76 87.77 87.78 87.77 87.77\n",
      " 87.77 87.78 87.78 87.79 87.79 87.8  87.81 87.81 87.82 87.82 87.83 87.83\n",
      " 87.83 87.83 87.83 87.83 87.83 87.83 87.83 87.83 87.83 87.82 87.82 87.82\n",
      " 87.83 87.84 87.85 87.86 87.87 87.88 87.88 87.87 87.87 87.87 87.87 87.86\n",
      " 87.85 87.85 87.84 87.84 87.83 87.83 87.83 87.83 87.83 87.83 87.84 87.83\n",
      " 87.83 87.83 87.83 87.83]\n",
      "[array([-25.26, -24.13, -23.  , -21.88, -20.75, -19.59, -18.41, -17.27,\n",
      "       -16.16, -15.06, -13.98, -12.88, -11.8 , -10.71,  -9.59,  -8.45,\n",
      "        -7.31,  -6.19,  -5.07,  -3.94,  -2.86,  -1.8 ,  -0.73,   0.33,\n",
      "         1.39,   2.5 ,   3.59,   4.66,   5.68,   6.73,   7.82,   8.9 ,\n",
      "        10.  ,  11.1 ,  12.2 ,  13.28,  14.33,  15.38,  16.47,  17.57,\n",
      "        18.64,  19.68,  20.69,  21.73,  22.79,  23.85,  24.9 ,  25.91,\n",
      "        26.89,  27.87,  28.86,  29.83,  30.8 ,  31.78,  32.76,  33.75,\n",
      "        34.73,  35.72,  36.68,  37.62,  38.57,  39.5 ,  40.43,  41.37,\n",
      "        42.3 ,  43.22,  44.16,  45.09,  46.02,  46.94,  47.84,  48.71,\n",
      "        49.61,  50.53,  51.41,  52.22,  53.07,  53.89,  54.67,  55.42,\n",
      "        56.16,  56.88,  57.56,  58.26,  58.92,  59.57,  60.19,  60.79,\n",
      "        61.38,  61.99,  62.56,  63.1 ,  63.63,  64.14,  64.64,  65.12,\n",
      "        65.59,  66.05,  66.5 ,  66.95,  67.38,  67.83,  68.28,  68.74,\n",
      "        69.18,  69.58,  69.98,  70.36,  70.72,  71.07,  71.4 ,  71.73,\n",
      "        72.06,  72.37,  72.66,  72.94,  73.21,  73.47,  73.73,  73.97,\n",
      "        74.21,  74.44,  74.67,  74.9 ,  75.12,  75.33,  75.53,  75.73,\n",
      "        75.93,  76.1 ,  76.26,  76.42,  76.58,  76.72,  76.84,  76.96,\n",
      "        77.07,  77.17,  77.27,  77.36,  77.44,  77.51,  77.56,  77.6 ,\n",
      "        77.64,  77.68,  77.73,  77.76,  77.77,  77.8 ,  77.84,  77.88,\n",
      "        77.92,  77.95,  78.  ,  78.05,  78.09,  78.12,  78.15,  78.17,\n",
      "        78.18,  78.2 ,  78.2 ,  78.2 ,  78.2 ,  78.2 ,  78.2 ,  78.2 ,\n",
      "        78.2 ,  78.2 ,  78.2 ,  78.19,  78.19,  78.19,  78.19,  78.18,\n",
      "        78.18,  78.17,  78.17,  78.17,  78.16,  78.17,  78.17,  78.18,\n",
      "        78.19,  78.19,  78.21,  78.21,  78.22,  78.21,  78.2 ,  78.2 ,\n",
      "        78.19,  78.19,  78.19,  78.18,  78.17,  78.17,  78.16,  78.16,\n",
      "        78.16,  78.16,  78.16,  78.16,  78.16,  78.17,  78.17,  78.17,\n",
      "        78.17,  78.17,  78.18,  78.18,  78.18,  78.18,  78.18,  78.18,\n",
      "        78.17,  78.17,  78.17,  78.16])]\n"
     ]
    },
    {
     "data": {
      "image/png": "[encoded data removed]",
      "text/plain": [
       "<Figure size 640x480 with 1 Axes>"
      ]
     },
     "metadata": {},
     "output_type": "display_data"
    }
   ],
   "source": [
    "\n",
    "CARS = np.loadtxt(\"D:\\DATA\\TIL6022\\data.csv\", delimiter=\",\")\n",
    "test_scenes = []\n",
    "for i in range(1000):\n",
    "    test_scenes.append(np.squeeze(CARS[np.where(CARS[:, 0] == i), :], 0))\n",
    "\n",
    "\n",
    "test_scene = test_scenes[31]\n",
    "\n",
    "print(\"TOTAL TIME STEP: %d\" %test_scene.shape[0] )\n",
    "\n",
    "\n",
    "car_front = Car(4.5, test_scene[:, 1] + 2.25, test_scene[:, 3], test_scene[:, 3])\n",
    "\n",
    "car_follow = Car(5, [test_scene[0, 4] + 2.5], [test_scene[0, 5]], [test_scene[0, 6]])\n",
    "\n",
    "car_follow_real = Car(5, [test_scene[:, 4] + 2.5], [test_scene[:, 5]], [test_scene[:, 6]])\n",
    "\n",
    "param = {\n",
    "    \"rect_time\": 0.2,\n",
    "    \"max_b\": 2,\n",
    "    \"max_a\": 2\n",
    "}\n",
    "\n",
    "gipps = Gipps(param)\n",
    "\n",
    "gipps.update(car_front, car_follow, 0.1)\n",
    "\n",
    "print(car_follow.xs)\n",
    "print(car_front.xs)\n",
    "print(car_follow_real.xs)\n",
    "\n",
    "\n",
    "plt.plot(car_front.xs, label=\"1\")\n",
    "plt.plot(car_follow.xs, label=\"2\")\n",
    "plt.plot(car_follow_real.xs[0], label=\"3\")\n",
    "plt.legend()\n",
    "plt.show()"
   ]
  },
  {
   "cell_type": "markdown",
   "metadata": {},
   "source": [
    "## "
   ]
  },
  {
   "cell_type": "markdown",
   "metadata": {},
   "source": [
    "## 5.2 Calibration\n",
    "\n"
   ]
  },
  {
   "cell_type": "code",
   "execution_count": null,
   "metadata": {},
   "outputs": [],
   "source": [
    "from sko.GA import GA\n",
    "import src.Genetic as Ge\n",
    "\n",
    "NUM_TEST = 100\n",
    "FILE_DIR = \"D:\\DATA\\TIL6022\\data.csv\"\n",
    "\n",
    "CARS = np.loadtxt(FILE_DIR, delimiter=\",\")\n",
    "test_scenes = []\n",
    "for i in range(NUM_TEST):\n",
    "    test_scenes.append(np.squeeze(CARS[np.where(CARS[:, 0] == i), :], 0))\n",
    "\n",
    "\n",
    "ga = GA(func=Ge.fitness, n_dim=5, size_pop=50, max_iter=20, prob_mut=0.01, lb=[5, 10, 30, 1, 10], ub=[40, 400, 200, 600, 600], precision=1)\n",
    "result = ga.run()\n",
    "print(result)\n",
    "\n",
    "Y_history = pd.DataFrame(ga.all_history_Y)\n",
    "fig, ax = plt.subplots(2, 1)\n",
    "ax[0].plot(Y_history.index, Y_history.values, '.', color='red')\n",
    "Y_history.min(axis=1).cummin().plot(kind='line')\n",
    "plt.show()"
   ]
  },
  {
   "cell_type": "markdown",
   "metadata": {},
   "source": [
    "# 6. Limitations and further research"
   ]
  },
  {
   "cell_type": "markdown",
   "metadata": {},
   "source": [
    "# References"
   ]
  },
  {
   "cell_type": "markdown",
   "metadata": {},
   "source": [
    "1. [Large Car-following Data Based on Lyft level-5 Open Dataset: Following Autonomous Vehicles vs. Human-driven Vehicles. Guopeng Li, Yiru Jiao, Victor L. Knoop, Simeon C. Calvert, and J.W.C. van Lint](https://arxiv.org/pdf/2305.18921.pdf)\n"
   ]
  }
 ],
 "metadata": {
  "kernelspec": {
   "display_name": "Python 3",
   "language": "python",
   "name": "python3"
  },
  "language_info": {
   "codemirror_mode": {
    "name": "ipython",
    "version": 3
   },
   "file_extension": ".py",
   "mimetype": "text/x-python",
   "name": "python",
   "nbconvert_exporter": "python",
   "pygments_lexer": "ipython3",
   "version": "3.11.5"
  },
  "orig_nbformat": 4,
  "vscode": {
   "interpreter": {
    "hash": "31f2aee4e71d21fbe5cf8b01ff0e069b9275f58929596ceb00d14d90e3e16cd6"
   }
  }
 },
 "nbformat": 4,
 "nbformat_minor": 2
}
