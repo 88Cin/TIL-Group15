{
 "cells": [
  {
   "attachments": {},
   "cell_type": "markdown",
   "metadata": {},
   "source": [
    "# Project Group - 15\n",
    "Members: \n",
    "\n",
    "         Guoheng Li 5939259\n",
    "\n",
    "         Junpeng Li 5921856\n",
    "\n",
    "         Haosen Luo 5936195\n",
    "         \n",
    "         Chenwei Peng 591838\n"
   ]
  },
  {
   "attachments": {},
   "cell_type": "markdown",
   "metadata": {},
   "source": [
    "# Research Objective\n",
    "\n",
    "## Objective\n",
    "\n",
    "Based on its importance, a variety of car following models are put forward trying to model such phenomenon. However, different models are based on different assumptions, formulations and methodologies, which entails real-world data to test their limitations and advantages, for instance, some of them can't account for some specific car following patterns. Nowadays, with preprocessed real-world car following data, we are able to calibrate the car following phenomana better and more precisely.\n",
    "Therefore, in this project the objectives are:\n",
    "\n",
    "**用提问的方式表达**\n",
    "1. Visualizing and laying exploratory descriptions on real-life car following dataset, trying to uncover the corrlations of different variables (such as headway, velocity and acceleration), in order to reveal the inspirations of how the common used car following models are formulated.\n",
    "\n",
    "2. Implementing 2 different common car following models in Python, and calibrate these models with real-world data. Using visualization and other methods to describe the advantages and disadvantages among these models. And based on latent corrlations we uncover in step 1, trying to put forward a possible correction and improvements for these models.\n",
    "\n"
   ]
  },
  {
   "cell_type": "markdown",
   "metadata": {},
   "source": [
    "# Contribution Statement\n",
    "\n",
    "Work in Process\n",
    "\n",
    "*Be specific. Some of the tasks can be coding (expect everyone to do this), background research, conceptualisation, visualisation, data analysis, data modelling*"
   ]
  },
  {
   "cell_type": "markdown",
   "metadata": {},
   "source": [
    "**Author 1**: Guoheng Li\n",
    "\n",
    "**Author 2**: Junpeng Li\n",
    "\n",
    "**Author 3**: Chenwei Peng\n",
    "\n",
    "**Author 4**: Haosen Luo"
   ]
  },
  {
   "cell_type": "markdown",
   "metadata": {},
   "source": [
    "\n",
    "# 1. Introduction\n",
    "\n",
    "Researching car following models is critical in transportation engineering and urban planning. These models provide insights essential for congestion management, infrastructure planning, environmental impact assessment, and safety improvement. By understanding traffic dynamics, decision-makers can optimize traffic flow, identify congestion-prone areas, and design efficient road networks. This leads to reduced emissions, energy conservation, and increased road safety. Traffic flow models also aid in public transportation optimization, enhancing services for commuters. They support data-driven decision-making and offer economic benefits by improving productivity and reducing fuel consumption. In essence, traffic flow models are invaluable tools that inform decisions, ultimately shaping sustainable urban development and improving overall quality of life."
   ]
  },
  {
   "cell_type": "markdown",
   "metadata": {},
   "source": [
    "# 2. Data\n",
    "\n",
    "## 2.1 Data Used\n",
    "\n",
    "In this project, we used car-following datasets provided in [this paper](https://arxiv.org/pdf/2305.18921.pdf), which is originally collected by autonomous vehicles (AVs) from the open Lyft level-5 dataset to study car-following behavior in mixed traffic flow. The dataset consisted of over 29,000 HV-following-AV (H-A) and 42,000 HV-following-HV (H-H) car-following segments. The dataset includes over 1000 hours of perception and motion data collected over a 4-month period from urban and suburban environments along a fixed route in Palo Alto, California. The dataset comprises approximately 170,000 scenes, with each scene spanning approximately 25 seconds. Each scene includes the movement states of perceived vehicles, cyclists, and pedestrians, as well as the position and orientation of the autonomous vehicle (AV). \n",
    "\n",
    "Then, data is processed using a data processing framework that involved several steps. First, CF pairs and their raw trajectories were selected from the unlabelled dataset based on certain rules. Then, the raw data quality was assessed through anomaly analysis. The next step involved enhancing the raw data. For AVs, missing segments were filled and smooth position and speed were estimated. For HVs, missing data around 0-speed points was filled using a jerk-minimization method. Finally, vehicle size processing was performed to split the enhanced dataset into two groups: H-A and H-H.\n",
    "\n",
    "The result of data processing was an enhanced dataset that had higher quality and covered diverse regimes for calibrating car-following models. The enhanced data showed a reduction in anomalies, particularly in abnormal jerk sign inversion. This processed dataset can be further used for investigating car-following behavior in mixed urban traffic and the impact of AVs on traffic.\n",
    "\n",
    "With diverse algorithms, we have obtained the data of the regime of each vehicle from an enhanced dataset. In the dataset of regime of each vehicle pairs, we have considered 7 regimes: \n",
    "  1. free acceleration (Fa)\n",
    "  2. free deceleration not caused by the leading vehicle (Fd)\n",
    "  3. cruising at a desired speed (C)\n",
    "  4. acceleration following a leading vehicle (A)\n",
    "  5. deceleration following a leading vehicle (D)\n",
    "  6. constant speed following (F)\n",
    "  7. standstill (S)\n",
    "\n",
    "The dataset also provides the time duration of each regime as well as the combination for each car-following case id which is for further analysis.\n",
    "\n",
    "**All the steps above are already done before dataset published, thus how to impletement these process is out of scope of our project, our project focuses on visualization, modelling and calibration on car following models, using the processed data**\n"
   ]
  },
  {
   "cell_type": "markdown",
   "metadata": {},
   "source": [
    "## 2.2 Data Preprocessing Pipeline\n",
    "\n",
    "### 2.2.1 data processing\n",
    "We will clean the data, reduce data noise, and improve the quality of the data, making it more suitable for subsequent analysis or modeling tasks.\n",
    "\n",
    "### 2.2.2 Data sorting\n",
    "We will classify the following 7 modes based on size, centroid, acceleration and velocity: free acceleration (Fa), free deceleration not caused by the leading vehicle (Fd), cruising at a desired speed (C), acceleration following a leading vehicle (A), deceleration following a leading vehicle (D), constant speed following (F), and standstill (S)."
   ]
  },
  {
   "cell_type": "markdown",
   "metadata": {},
   "source": [
    "## 3 Pipeline"
   ]
  },
  {
   "attachments": {},
   "cell_type": "markdown",
   "metadata": {},
   "source": [
    "### 3.2.1 data exploration and plotting\n",
    "In order to explore the relations between the given car following dataset and the common car following models, and to derive some inspirations on how these models are developed, we resort to data exploration methods to help analyzing. \n",
    "\n",
    "Here are several ways to perform calculations on data：\n",
    "- Headspace：The distance between the heading of the front car and the rear car.\n",
    "- Vehicle distance: The distance from the rear bumper of the front vehicle to the front of the rear vehicle.\n",
    "- Effect of size on distance：Effect of vehicle size on distance between vehicles.\n",
    "- Statistics: Variance / mean.\n",
    "- Analyze different regimes: Relationships between vehicle attributes.\n",
    "By analylising these \n",
    "\n",
    "### 3.2.2 Modelling\n",
    "We will apply the Intelligent Driver Model and Gipps Model to verify their applications on different regimes, and try analysing their behaviour patterns as well pros and cons. However, to do so there are some parameters left to be filled in. Therefore, we have to calibrate the parameters first objectively and comprehensively, i.e. we decided to calibrate the parameters by using algorithms to minimize the total car following trajectory loss, and apply them to different regimes due to the huge discrepancy among various patterns.\n",
    "\n",
    "\n",
    "![IMAGE](./images/image.png)"
   ]
  },
  {
   "cell_type": "markdown",
   "metadata": {},
   "source": [
    "# 4. Data Exploration"
   ]
  },
  {
   "cell_type": "markdown",
   "metadata": {},
   "source": [
    "## 4.1 对数据进行描述\n",
    "\n",
    "### 4.1.1 相关系数图\n",
    "最intuitive的想法（不用分类）\n",
    "\n",
    "1. v和车头间距的关系 / a和车头间距的关系\n",
    "2. ...balabala\n",
    "\n",
    "### 4.1.2 直方图\n",
    "\n",
    "1. 速度，加速度，车头间距做频率分布直方图分析（对不同的regimes）\n",
    "\n",
    "- 为什么会出现那么多0?\n",
    "\n",
    "2. 车辆size的直方图\n",
    "\n",
    "### 4.1.3 饼图\n",
    "\n",
    "1. HH HA 分开探讨 不同regimes下的数量占比\n",
    "\n",
    "## 4.2 数据关系分析\n",
    "\n",
    "1. 为什么要划分ADF....这些模式： 通过直方图来反映各个量看看有没有区别\n",
    "\n",
    "2. IDM模型需要至少ADF的数据，那么IDM模型是怎么构建的，参数之间有什么关系（可以直接用ADF数据）:\n",
    "    - 车头间距和加速度的关系\n",
    "    - 速度和理想速度的比值（？）（分场景ADF+1 / ADF / ADF+2）的差距会对加速度有什么影响"
   ]
  },
  {
   "cell_type": "markdown",
   "metadata": {},
   "source": [
    "# 5. Models, Calibrations & Pros and Cons"
   ]
  },
  {
   "cell_type": "markdown",
   "metadata": {},
   "source": [
    "While there are many available models for car following, different kinds of models account for different behaviours. Based on the data exploration and the conclusion we made in the last part:\n",
    "- 1\n",
    "- 2\n",
    "- 3\n",
    "\n",
    "In recent studies, common car following models we are to discuss, are usually devided into 3 types.\n",
    "\n",
    "## 5.1 Models\n",
    "\n",
    "### 5.1.1 Desired Measures Models (Intelligent Driver Model)\n",
    "\n",
    "The model presumes that each driver has a desired velocity, headway, and the drivers try to minimize the gap between the actual value and the desired value, while constrained by a variety of conditions, for instance safety distances. Intelligent Driver Model(IDM) is catagorized in this catagorization:\n",
    "\n",
    "Drivers try to minimize the following distance, and minimize both the speed difference and desired headway as well. In IDM model:\n",
    "\n",
    "1. The influence factors include own speed $v$, the bumper-to-bumper gap $s$ to the lead vehicle, and the difference of the speed $\\Delta v = v - v_{\\text{lead}}$\n",
    "\n",
    "2. The model only outputs the acceleration $a$ on the following car.\n",
    "\n",
    "3. The model parameters are driving styles.\n"
   ]
  },
  {
   "cell_type": "markdown",
   "metadata": {},
   "source": [
    "The IDM model equations are fomulated as follows:\n",
    "$$\n",
    "\\begin{aligned}\n",
    "&\\frac{dv}{dt} = a\\left[1 - \\left(\\frac{v}{v_0}\\right)^\\sigma - \\left(\\frac{s^*(v, \\Delta v)}{s}\\right)^2 \\right]\\\\\n",
    "\n",
    "&s^*(v, \\Delta v) = s_0 + \\max\\left[0, \\left(vT+\\frac{v\\Delta v}{2 \\sqrt{ab}}\\right)\\right]\n",
    "\\end{aligned}\n",
    "$$"
   ]
  },
  {
   "cell_type": "code",
   "execution_count": null,
   "metadata": {},
   "outputs": [],
   "source": [
    "## here is the code for calculating the IDM models with arbitary parameters"
   ]
  },
  {
   "cell_type": "markdown",
   "metadata": {},
   "source": [
    "## "
   ]
  },
  {
   "cell_type": "markdown",
   "metadata": {},
   "source": [
    "## 5.2 Calibration\n",
    "\n"
   ]
  },
  {
   "cell_type": "markdown",
   "metadata": {},
   "source": []
  },
  {
   "cell_type": "code",
   "execution_count": null,
   "metadata": {},
   "outputs": [],
   "source": [
    "import src.IDM\n",
    "import src.genetic"
   ]
  },
  {
   "cell_type": "markdown",
   "metadata": {},
   "source": []
  },
  {
   "cell_type": "markdown",
   "metadata": {},
   "source": [
    "# 6. Limitations and further research"
   ]
  },
  {
   "cell_type": "markdown",
   "metadata": {},
   "source": [
    "# References"
   ]
  },
  {
   "cell_type": "markdown",
   "metadata": {},
   "source": [
    "1. [Large Car-following Data Based on Lyft level-5 Open Dataset: Following Autonomous Vehicles vs. Human-driven Vehicles. Guopeng Li, Yiru Jiao, Victor L. Knoop, Simeon C. Calvert, and J.W.C. van Lint](https://arxiv.org/pdf/2305.18921.pdf)\n"
   ]
  }
 ],
 "metadata": {
  "kernelspec": {
   "display_name": "Python 3",
   "language": "python",
   "name": "python3"
  },
  "language_info": {
   "name": "python",
   "version": "3.8.2"
  },
  "orig_nbformat": 4,
  "vscode": {
   "interpreter": {
    "hash": "31f2aee4e71d21fbe5cf8b01ff0e069b9275f58929596ceb00d14d90e3e16cd6"
   }
  }
 },
 "nbformat": 4,
 "nbformat_minor": 2
}
