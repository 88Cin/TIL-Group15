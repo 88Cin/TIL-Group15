{
 "cells": [
  {
   "attachments": {},
   "cell_type": "markdown",
   "metadata": {},
   "source": [
    "# Project Group - 15\n",
    "Members: \n",
    "\n",
    "         Guoheng Li 5939259\n",
    "\n",
    "         Junpeng Li 5921856\n",
    "\n",
    "         Haosen Luo 5936195\n",
    "         \n",
    "         Chenwei Peng 591838\n"
   ]
  },
  {
   "cell_type": "markdown",
   "metadata": {},
   "source": [
    "# TODO:\n",
    "1. 0值为什么出现这么多\n",
    "2. 如何可视化体现不同模式的划分\n",
    "3. 速度和理想速度的比值\n",
    "4. 把文档的we改掉\n",
    "\n"
   ]
  },
  {
   "cell_type": "markdown",
   "metadata": {},
   "source": [
    "# Contribution Statement\n",
    "\n",
    "Work in Process\n",
    "\n",
    "*Be specific. Some of the tasks can be coding (expect everyone to do this), background research, conceptualisation, visualisation, data analysis, data modelling*"
   ]
  },
  {
   "cell_type": "markdown",
   "metadata": {},
   "source": [
    "**Author 1**: Guoheng Li\n",
    "\n",
    "**Author 2**: Junpeng Li\n",
    "\n",
    "**Author 3**: Chenwei Peng\n",
    "\n",
    "**Author 4**: Haosen Luo"
   ]
  },
  {
   "cell_type": "markdown",
   "metadata": {},
   "source": [
    "\n",
    "# 1. Introduction\n",
    "\n"
   ]
  },
  {
   "cell_type": "markdown",
   "metadata": {},
   "source": [
    "## 1.1 Background\n",
    "\n"
   ]
  },
  {
   "cell_type": "markdown",
   "metadata": {},
   "source": [
    "Researching car following models is critical in transportation engineering and urban planning. These models provide insights essential for congestion management, infrastructure planning, environmental impact assessment, and safety improvement. By understanding traffic dynamics, decision-makers can optimize traffic flow, identify congestion-prone areas, and design efficient road networks. This leads to reduced emissions, energy conservation, and increased road safety. Traffic flow models also aid in public transportation optimization, enhancing services for commuters. They support data-driven decision-making and offer economic benefits by improving productivity and reducing fuel consumption. In essence, traffic flow models are invaluable tools that inform decisions, ultimately shaping sustainable urban development and improving overall quality of life.\n",
    "\n",
    "Based on its importance, a variety of car following models are put forward trying to model such phenomenon. However, different models are based on different assumptions, formulations and methodologies, which entails real-world data to test their limitations and advantages, for instance, some of them can't account for some specific car following patterns. Nowadays, with preprocessed real-world car following data, we are able to calibrate the car following phenomana better and more precisely."
   ]
  },
  {
   "cell_type": "markdown",
   "metadata": {},
   "source": [
    "## 1.2 Research Objective\n",
    "\n"
   ]
  },
  {
   "attachments": {},
   "cell_type": "markdown",
   "metadata": {},
   "source": [
    "Therefore, in this project the objectives are:\n",
    "\n",
    "1. How to evaluate the comprehensiveness and the goodness of the dataset we use? Are there correlations or characteristics across different sets of car following variables(e.g.headway, follower's velocity and acceleration)?\n",
    "\n",
    "2. Can IDM and Gipps models be implemented? How to estimate the parameters? Are there some pros and cons between these two models? How to possibly further improve these two models?"
   ]
  },
  {
   "cell_type": "markdown",
   "metadata": {},
   "source": [
    "# 2. Framework\n"
   ]
  },
  {
   "cell_type": "markdown",
   "metadata": {},
   "source": [
    "\n",
    "## 2.1 Data Used\n",
    "\n"
   ]
  },
  {
   "cell_type": "markdown",
   "metadata": {},
   "source": [
    "In this project, we used car-following datasets provided in [this paper](https://arxiv.org/pdf/2305.18921.pdf), which is originally collected by autonomous vehicles (AVs) from the open Lyft level-5 dataset to study car-following behavior in mixed traffic flow. The dataset consisted of over 29,000 HV-following-AV (H-A) and 42,000 HV-following-HV (H-H) car-following segments. The dataset includes over 1000 hours of perception and motion data collected over a 4-month period from urban and suburban environments along a fixed route in Palo Alto, California. The dataset comprises approximately 170,000 scenes, with each scene spanning approximately 25 seconds. Each scene includes the movement states of perceived vehicles, cyclists, and pedestrians, as well as the position and orientation of the autonomous vehicle (AV). \n",
    "\n",
    "Then, data is processed using a data processing framework that involved several steps. First, CF pairs and their raw trajectories were selected from the unlabelled dataset based on certain rules. Then, the raw data quality was assessed through anomaly analysis. The next step involved enhancing the raw data. For AVs, missing segments were filled and smooth position and speed were estimated. For HVs, missing data around 0-speed points was filled using a jerk-minimization method. Finally, vehicle size processing was performed to split the enhanced dataset into two groups: H-A and H-H.\n",
    "\n",
    "The result of data processing was an enhanced dataset that had higher quality and covered diverse regimes for calibrating car-following models. The enhanced data showed a reduction in anomalies, particularly in abnormal jerk sign inversion. This processed dataset can be further used for investigating car-following behavior in mixed urban traffic and the impact of AVs on traffic.\n",
    "\n",
    "With diverse algorithms, we have obtained the data of the regime of each vehicle from an enhanced dataset. In the dataset of regime of each vehicle pairs, we have considered 7 regimes: \n",
    "  1. free acceleration (Fa)\n",
    "  2. free deceleration not caused by the leading vehicle (Fd)\n",
    "  3. cruising at a desired speed (C)\n",
    "  4. acceleration following a leading vehicle (A)\n",
    "  5. deceleration following a leading vehicle (D)\n",
    "  6. constant speed following (F)\n",
    "  7. standstill (S)\n",
    "\n",
    "The dataset also provides the time duration of each regime as well as the combination for each car-following case id which is for further analysis.\n",
    "\n",
    "**All the steps above are already done before dataset published, thus how to impletement these process is out of scope of our project, our project focuses on visualization, modelling and calibration on car following models, using the processed data**\n"
   ]
  },
  {
   "attachments": {},
   "cell_type": "markdown",
   "metadata": {},
   "source": [
    "## 2.2 Data Preprocessing Pipeline\n",
    "\n",
    "### 2.2.1 Organizing and exporting data\n",
    "We acquired the data as zarr files. zarr files can be used for large-scale file storage, but are relatively difficult to extract and analyze. After the discussion, we finally decided to use 5000 sets of car_following data for processing and analysis in this project. Firstly, a function is defined to extract the x_lead, v_lead, a_lead, x_follow, v_follow, a_follow, timestamps (vehicle centroid, speed, acceleration data and time points of the lead and following vehicles respectively) from the trainHA.zarr and trainHH.zarr folder, add the ids and import all the data into a csv file named multi_data.csv. Then, because the size of the vehicle is different in each following model,  the size data of the front and rear vehicles is extracted as size_lead, size_follow and after adding the ids to it, the data is imported into a csv file named multi_size.csv.\n",
    "\n",
    "### 2.2.2 Data Segmentation and Preprocessing\n",
    "After obtaining the original data of the car_following model, we pre-process the data for segmentation. Firstly, we extracted the vehicle size and vehicle centroid data (located in multi_size and multi_data respectively) and used them to calculate the distance between two vehicles in the following mode, including the vehicle spacing (the distance between the rear end of the front vehicle and the front end of the rear vehicle) and the space headway (the distance between the front end of the front vehicle and the front end of the rear vehicle), which were calculated by the formulae:\n",
    " 1. $\\text{Vehicle Spacing} = \\text{centre point of the lead vehicle} - \\text{centre point of the following vehicle} - \\frac{1}{2}(\\text{length of lead vehicle} + \\text{length of following vehicle})$\n",
    " 2. $\\text{Space Headway} = \\text{centre point of lead vehicle} - \\text{centre point of following vehicle} + \\frac{1}{2}(\\text{length of lead vehicle} + \\text{length of following vehicle})$ \n",
    " 3. The two data are named as A_distance and B_distance, and finally they are output as distance.csv file.\n",
    "\n",
    "### 2.2.3 Export of different following models\n",
    "In the car_following model, the following states of the vehicle are different at different times, which are classified into 7 types as follows: \n",
    "A (acceleration), D (deceleration), F (follow), Fa (free acceleration), Fd (free deceleration), C (cruise), S (standstill). \n",
    "In order to explore the relationship between the different following states, we need to extract all the following states and create separate csv files. In regimes_list_HA_train.csv and regimes_list_HH_train.csv, the order and duration of the different following modes are regulated as follows:\n",
    "\n",
    "| CASE_ID | A | D | F | Fa | regime_combination | C | Fd | S |\n",
    "|:--------| --|-------|----|--------------------|---|----|---|\n",
    "| Scene ID for each set of car following data | duration for A regime |duration for D regime| duration for F regime| duration for Fa regime| combination of regimes|\n",
    "\n",
    "![IMAGE](./images/regime.jpg)\n",
    "\n",
    "So for preprocessing, we first read the regimes string and identify the different following modes, and then export the vehicle data of different durations in multi_data.csv according to the corresponding durations. Finally, these data are imported into seven different csv files, each named after a different regime.\n",
    "Finally, since A, D, and F are the classical car following models, according to the conclusion in [2], in order to make use of the data to estimate the parameters in IDM model, each scene of data is required to contain at least A, D, F regimes. Therefore, we use Regular Expression in python to filter out the scenes that contain the three ADF modes and export the data according to the number of scenes other than the ADF and import them into different csv files named ADF+1_multi_data.csv etc., respectively.\n",
    "After this we perform data visualization.\n",
    "\n",
    "In the end, the data is organised as follows (due to the file size issue, we can't upload the file to Github repository):\n"
   ]
  },
  {
   "cell_type": "code",
   "execution_count": null,
   "metadata": {},
   "outputs": [],
   "source": [
    "# ├─HA\n",
    "# |       A.csv\n",
    "# |       ADF+1_multi_data.csv\n",
    "# |       ... (the same directories as in HH directory)\n",
    "# │   \n",
    "# │\n",
    "# └─HH\n",
    "#         A.csv\n",
    "#         ADF+1_multi_data.csv\n",
    "#         ADF+2_multi_data.csv\n",
    "#         ADF+3_multi_data.csv\n",
    "#         ADF+4_multi_data.csv\n",
    "#         ADF_multi_data.csv\n",
    "#         C.csv\n",
    "#         D.csv\n",
    "#         distance.csv\n",
    "#         F.csv\n",
    "#         Fa.csv\n",
    "#         Fd.csv\n",
    "#         multi_data.csv\n",
    "#         multi_size.csv\n",
    "#         regimes_list_HH_train.csv\n",
    "#         S.csv"
   ]
  },
  {
   "cell_type": "markdown",
   "metadata": {},
   "source": [
    "## 3 Pipeline"
   ]
  },
  {
   "attachments": {},
   "cell_type": "markdown",
   "metadata": {},
   "source": [
    "## 2.2 Data\n",
    "\n"
   ]
  },
  {
   "cell_type": "markdown",
   "metadata": {},
   "source": [
    "### 2.2.1 Data Processing\n",
    "We will clean the data, reduce data noise, and improve the quality of the data, making it more suitable for subsequent analysis or modeling tasks.\n",
    "\n",
    "### 2.2.2 Data Sorting\n",
    "We will classify the following 7 modes based on size, centroid, acceleration and velocity: free acceleration (Fa), free deceleration not caused by the leading vehicle (Fd), cruising at a desired speed (C), acceleration following a leading vehicle (A), deceleration following a leading vehicle (D), constant speed following (F), and standstill (S).\n",
    "\n",
    "### 2.3.1 Data Exploration\n",
    "In order to explore the relations between the given car following dataset and the common car following models, and to derive some inspirations on how these models are developed, we resort to data exploration methods to help analyzing. \n",
    "\n",
    "Here are several ways to perform calculations on data：\n",
    "- Headspace：The distance between the heading of the front car and the rear car.\n",
    "- Vehicle distance: The distance from the rear bumper of the front vehicle to the front of the rear vehicle.\n",
    "- Effect of size on distance：Effect of vehicle size on distance between vehicles.\n",
    "- Statistics: Variance / mean.\n",
    "- Analyze different regimes: Relationships between vehicle attributes.\n",
    "By analylising these \n",
    "\n"
   ]
  },
  {
   "cell_type": "markdown",
   "metadata": {},
   "source": [
    "## 2.3 Modelling\n"
   ]
  },
  {
   "cell_type": "markdown",
   "metadata": {},
   "source": [
    "We will apply the Intelligent Driver Model and Gipps Model to verify their applications on different regimes, and try analysing their behaviour patterns as well pros and cons. However, to do so there are some parameters left to be filled in. Therefore, we have to calibrate the parameters first objectively and comprehensively, i.e. we decided to calibrate the parameters by using algorithms to minimize the total car following trajectory loss, and apply them to different regimes due to the huge discrepancy among various patterns.\n",
    "\n",
    "\n",
    "![IMAGE](./images/image.png)"
   ]
  },
  {
   "cell_type": "markdown",
   "metadata": {},
   "source": [
    "# 3. Data Exploration"
   ]
  },
  {
   "cell_type": "code",
   "execution_count": null,
   "metadata": {},
   "outputs": [],
   "source": [
    "# import dependent libraries\n",
    "\n",
    "import pandas as pd\n",
    "import matplotlib.pyplot as plt\n",
    "import numpy as np\n",
    "import seaborn as sns\n",
    "import os\n",
    "import math\n",
    "\n",
    "\n",
    "# DIRECTORIES\n",
    "PROJECT_FILE = \"../\"\n",
    "MULTI_SIZE_FILE = PROJECT_FILE + 'data/HH/multi_size.csv' \n",
    "MULTI_FILE = PROJECT_FILE + 'data/HH/multi_data.csv' \n",
    "\n",
    "# IPYNB CONFIG\n",
    "%matplotlib inline\n"
   ]
  },
  {
   "attachments": {},
   "cell_type": "markdown",
   "metadata": {},
   "source": [
    "## 3.1 Data Description\n"
   ]
  },
  {
   "attachments": {},
   "cell_type": "markdown",
   "metadata": {},
   "source": [
    "\n",
    "### 3.1.1 Vehicle Size Distribution Description\n"
   ]
  },
  {
   "attachments": {},
   "cell_type": "markdown",
   "metadata": {},
   "source": [
    "**The size of vehicles usually represents some features of a kind of specific vehicle, for instance, the longer vehicle tends to be truck, and thus accelerate at lower rate. Therefore, analysing the distribution of the vehicles type is of great importance in our study.**\n",
    "\n",
    "1） The Vehicle Length Frequency Distribution chart depicts the frequency distribution of vehicles of different lengths. The vehicle length ranges from 0 meters to approximately 17.5 meters. Most vehicles fall within the range of 2.5 meters to 7.5 meters, with the highest frequency observed between 2.5 meters and 5.0 meters, surpassing 1400 vehicles. This indicates that the majority of vehicles are relatively short, likely small or compact cars.\n",
    "\n",
    "2）Vehicle Length Category Histogram\n",
    "Conforming to the conventions, we devide the vehicles into 6 categories by their lengths for further research. This graph illustrates the number of vehicles in different length categories. Among these categories, \"Compact (4.4-6)\" has the highest count, with a total of 2378 vehicles, while \"Mini (3-3.5)\" has the fewest, with only 16 vehicles. Compact category vehicles are the most prevalent, while Mini category vehicles are the least common. It is evident that the number of Compact and Small category vehicles significantly exceeds other categories in the dataset under study, indicating that these two vehicle types are the most commonly observed.\n",
    "\n",
    "3）The pie chart illustrates the proportion of various vehicle sizes among all the vehicles. Among them, the compact vehicles occupy the largest share at 47.9%, while the mini vehicles have the smallest share at 0.3%. This indicates that the dataset primarily consists of compact and small vehicles, which can serve as a reference for the parameters related to vehicle length used in the subsequent traffic model\n",
    "\n",
    "The data from both charts complement each other, providing a comprehensive view of vehicle lengths and their distribution.\n",
    "\n",
    "**Conclusion: Even though the dataset covers more compact cars and smalls cars than large cars, which could affect the parameters selection in model (for example, the larger cars has lower expected acceleration). However, we can eliminate the partiality by using different sets of parameters to describe the heterogeneity**"
   ]
  },
  {
   "cell_type": "code",
   "execution_count": null,
   "metadata": {},
   "outputs": [],
   "source": [
    "df_multi_size = pd.read_csv(MULTI_SIZE_FILE)\n",
    "\n",
    "# Create a figure with two subplots\n",
    "fig, axes = plt.subplots(1, 3, figsize=(12, 5))\n",
    "\n",
    "# First subplot - Histogram\n",
    "axes[0].hist(df_multi_size['size_lead'], bins=50)\n",
    "axes[0].set_xlabel('Vehicle Length (m)')\n",
    "axes[0].set_ylabel('Frequency')\n",
    "axes[0].set_title('Vehicle Length Frequency Distribution')\n",
    "\n",
    "# Second subplot - Length Category Histogram\n",
    "bins = [0, 3.5, 4, 4.6, 4.8, 5, max(df_multi_size['size_lead'].values)]\n",
    "labels = ['Mini(-3.5)', 'Small(3.5-4)', 'Compact(4-4.6)', 'Mid-sized(4.6-4.8)', 'Medium(4.8-5)', 'Large(5+)']\n",
    "df_multi_size['length_category'] = pd.cut(df_multi_size['size_lead'], bins=bins, labels=labels, right=False)\n",
    "value_counts = df_multi_size['length_category'].value_counts()\n",
    "\n",
    "axes[1] = value_counts.plot(kind='bar', ax=axes[1])\n",
    "axes[1].set_xlabel('Vehicle Length Category')\n",
    "axes[1].set_ylabel('Frequency')\n",
    "axes[1].set_title('Vehicle Length Category Histogram')\n",
    "axes[1].tick_params(axis='x', rotation=45)\n",
    "\n",
    "explode = [0 ,0, 0, 0.3, 0, 0]\n",
    "axes[2] = value_counts.plot(kind='pie', explode=explode, ax=axes[2], autopct=\"%1.1f%%\", shadow=True, startangle=0)\n",
    "axes[2].set_title('Vehicle Length Category Piegram')\n",
    "\n",
    "# Add specific frequency values on the second subplot\n",
    "for i, v in enumerate(value_counts):\n",
    "    axes[1].text(i, v + 10, str(v), ha='center', va='bottom')\n",
    "\n",
    "# Adjust the spacing between subplots\n",
    "plt.tight_layout()\n",
    "\n",
    "# Show the entire figure\n",
    "plt.show()"
   ]
  },
  {
   "attachments": {},
   "cell_type": "markdown",
   "metadata": {},
   "source": [
    "According to the classification above, and considering the complexity of the categorization, we decide to divide the vehicles into 3 types based on their length. The classification criterior is as follows:"
   ]
  },
  {
   "cell_type": "code",
   "execution_count": null,
   "metadata": {},
   "outputs": [],
   "source": [
    "def get_car_type(length):\n",
    "    \n",
    "    if 5 < length:\n",
    "        return \"Large\"\n",
    "    if length <= 4.6:\n",
    "        return \"Small\"\n",
    "    if 4.6 < length <= 5:\n",
    "        return \"Medium\"\n",
    "    \n",
    "    return None"
   ]
  },
  {
   "attachments": {},
   "cell_type": "markdown",
   "metadata": {},
   "source": [
    "### 3.1.2 Variables in Data"
   ]
  },
  {
   "attachments": {},
   "cell_type": "markdown",
   "metadata": {},
   "source": [
    "In order to lay an accurate account for the car following data, the velocity $v_\\text{lead}$, $v_\\text{follow}$, the acceleration $a_\\text{lead}$, $a_\\text{follow}$, and the distance $s$ between two vehicles are indispensible. Therefore, the distribution and the basic statistics of these data are to be acquired. \n",
    "\n",
    "\n",
    "1. Mean, Max, Min: The max of velocities for both cars are low, in terms of the velocity that is usually observed on freeway, which implies that the data is collected from the street in the city, which could also impact the behaviour of driver and the estimation of car following parameters. Especially the mean of acceleration concentrated around 0, but also with many scattered abnormality values (which could be erratum or error).\n",
    "2. Variance: As is shown in the table and the boxplots below, disregarding the heterogeneity of different types of vehicles, the total distribution of these variables are scattered, which can be shown by the high variance and the long tails of boxplots. But it indeed implies that there could be latent patterns of car following behaviours. \n",
    "3. Distance should be of the greatest importance for formulating a car following model, as is shown in the boxplot, there are many outliers in the distance, which could imply that free flow situations exist. And the distribution of the distance is skewed, centered around 20(m), which implies the larger the distance is, the less chances that is going to happen."
   ]
  },
  {
   "cell_type": "code",
   "execution_count": null,
   "metadata": {},
   "outputs": [],
   "source": [
    "# Define the directory\n",
    "FOLDER_PATH = PROJECT_FILE + \"data/HH\"\n",
    "vars = [\"v_lead\" , \"a_lead\", \"v_follow\", \"a_follow\"]\n",
    "vars_label = [\"velocity_lead(m/s)\", \"acceleration_lead(m/s^2)\", \"velocity_follow(m/s)\", \"acceleration_follow(m/s^2)\"]\n",
    "\n",
    "rows = 2\n",
    "\n",
    "\n",
    "# needed data\n",
    "df_size = pd.read_csv(MULTI_SIZE_FILE)\n",
    "df = pd.read_csv(MULTI_FILE)\n",
    "\n",
    "pd.set_option(\"display.float_format\", lambda X: \"%.2f\" % X)\n",
    "fig, axs = plt.subplots(1, 3, figsize=(15, 3))\n",
    "\n",
    "df[\"distance\"] = df[\"x_lead\"] - df[\"x_follow\"]\n",
    "\n",
    "\n",
    "df[[\"v_follow\", \"v_lead\"]].plot(kind=\"box\", whis=[0, 100], ax=axs[0], ylabel=\"velocity(m/s)\")\n",
    "df[[\"a_follow\", \"a_lead\"]].plot(kind=\"box\", whis=[0, 100], ax=axs[1], ylabel=\"acceleration(m/s2)\")\n",
    "df[\"distance\"].plot(kind=\"box\", whis=[5, 95], ax=axs[2], ylabel=\"distance(m)\")\n",
    "\n",
    "df[[\"v_follow\", \"v_lead\", \"a_follow\", \"a_lead\", \"distance\"]].describe()"
   ]
  },
  {
   "cell_type": "code",
   "execution_count": null,
   "metadata": {},
   "outputs": [],
   "source": [
    "# Create a new plot, with subplots of 2 x 3\n",
    "fig, axs = plt.subplots(2, 2, figsize=(10, 5))\n",
    "\n",
    "# extract follow acceleration data\n",
    "follow_acceleration = df.groupby('ID').sample(2, replace=True)\n",
    "follow_acceleration = follow_acceleration.merge(df_size, on='ID')\n",
    "\n",
    "follow_acceleration[\"types\"] = follow_acceleration[\"size_follow\"].apply(get_car_type)\n",
    "\n",
    "# Iterate each csv file\n",
    "for i, var in enumerate(vars):\n",
    "    \n",
    "    # compute row and column index\n",
    "    row = i % rows\n",
    "    col = i // rows\n",
    "    \n",
    "    # Draw the histograms\n",
    "    sns.histplot(data=follow_acceleration, x=var, bins=50, ax=axs[row, col], hue=\"types\", multiple=\"stack\")\n",
    "    axs[row, col].set_xlabel(vars_label[i])\n",
    "    axs[row, col].set_ylabel('Frequency')\n",
    "    axs[row, col].set_title(f'Frequency Distribution for {var}')\n",
    "\n",
    "\n",
    "# Remove redundant white subplots\n",
    "for d in range(i + 1, math.ceil(rows*((len(vars) / rows)))):\n",
    "\n",
    "    # compute row and column index\n",
    "    row = d % rows\n",
    "    col = d // rows\n",
    "\n",
    "    fig.delaxes(axs[row, col])\n",
    "\n",
    "plt.tight_layout()\n",
    "plt.show()\n",
    "\n"
   ]
  },
  {
   "cell_type": "markdown",
   "metadata": {},
   "source": [
    "### 3.1.3 Rationality for Deviding Vehicles into Different Vehicle Types"
   ]
  },
  {
   "cell_type": "code",
   "execution_count": null,
   "metadata": {},
   "outputs": [],
   "source": [
    "# Define the directory\n",
    "FOLDER_PATH = PROJECT_FILE + \"data/HH\"\n",
    "# csv_files = [f for f in os.listdir(FOLDER_PATH) if f.endswith('.csv') and f.startswith(\"ADF\")]\n",
    "csv_files = [f for f in os.listdir(FOLDER_PATH) if f.endswith('.csv') and not f.startswith(\"ADF\") and f[0].isupper()]\n",
    "\n",
    "\n",
    "def plot_dist(csv_files, var_name, label, rows=2, xlim=None, bins=200):\n",
    "    cols = math.ceil(len(csv_files) / rows)\n",
    "\n",
    "    fig, axs = plt.subplots(rows, cols, figsize=(16, 8))\n",
    "    df_size = pd.read_csv(MULTI_SIZE_FILE)\n",
    "\n",
    "\n",
    "    # Iterate each csv file\n",
    "    for i, csv_file in enumerate(csv_files):\n",
    "        # construct a complete directory\n",
    "        file_path = os.path.join(FOLDER_PATH, csv_file)\n",
    "        df = pd.read_csv(file_path)\n",
    "\n",
    "        df['diff_velo'] = df['v_follow'] - df['v_lead']\n",
    "        \n",
    "        # extract follow acceleration data\n",
    "        follow_acceleration = df.groupby('ID').sample(2, replace=True)\n",
    "        follow_acceleration = follow_acceleration.merge(df_size, on='ID')\n",
    "\n",
    "        follow_acceleration[\"types\"] = follow_acceleration[\"size_follow\"].apply(get_car_type)\n",
    "        \n",
    "        # compute row and column index\n",
    "        row = i // cols\n",
    "        col = i % cols\n",
    "\n",
    "        \n",
    "        # Draw the histograms\n",
    "        sns.histplot(data=follow_acceleration, bins=bins, x=var_name, ax=axs[row, col], hue=\"types\", kde=True, multiple=\"stack\")\n",
    "        axs[row, col].set_xlabel(label)\n",
    "        axs[row, col].set_xlim(xlim)\n",
    "        axs[row, col].set_ylabel('Frequency')\n",
    "        axs[row, col].set_title(f'Frequency Distribution - {csv_file}')\n",
    "\n",
    "    # delete the redundant subplots automatically\n",
    "    for d in range(i + 1, cols*rows):\n",
    "\n",
    "        # compute row and column index\n",
    "        row = d // cols\n",
    "        col = d % cols\n",
    "\n",
    "        fig.delaxes(axs[row, col])\n",
    "\n",
    "    plt.tight_layout()\n",
    "    plt.show()\n",
    "\n",
    "plot_dist(csv_files, var_name=\"diff_velo\", label='Velocity Difference (V_Follow - V_Lead) (m$\\cdot$s$^{-1}$)', rows=2, xlim=[-2, 2], bins=200)"
   ]
  },
  {
   "attachments": {},
   "cell_type": "markdown",
   "metadata": {},
   "source": [
    "\n",
    "### 3.1.4 Speed & Acceleration Distribution Histograms for Following Vehicles in Different Modes\n",
    "\n"
   ]
  },
  {
   "attachments": {},
   "cell_type": "markdown",
   "metadata": {},
   "source": [
    "In ADF Mode:\n",
    "This chart displays the speed distribution of vehicles. The distribution forms a distinct bell-shaped curve, concentrated between -0.5 (representing measurement errors) and 0.25 m/s². This indicates that in the basic ADF mode, the variation in vehicle speed acceleration is very small, with most vehicles maintaining a stable speed.\n",
    "\n",
    "In ADF+1 Mode:\n",
    "The speed distribution ranges from 0 to 20 m/s. The data distribution is relatively uniform, with no pronounced peaks, but there is a slight elevation between 5 m/s and 7.5 m/s. This suggests that in this mode, vehicle speed selection is relatively balanced, with no specific concentration trend.\n",
    "\n",
    "In ADF+2 Mode:\n",
    "The speed distribution also ranges from 0 to 20 m/s. Similarly, there are no very distinct peaks, but the data is slightly concentrated between 5 m/s and 10 m/s. This indicates that in this mode, vehicles tend to travel at moderate speeds.\n",
    "\n",
    "In ADF+3 Mode:\n",
    "The speed distribution ranges from 0 to 20 m/s. The data distribution is somewhat scattered, but the speed selection is more concentrated between 5 m/s and 10 m/s. This suggests that in the ADF+3 mode, vehicles also tend to favor moderate speeds.\n",
    "\n",
    "In ADF+4 Mode:\n",
    "The speed distribution ranges from 0 to 10 m/s. The distribution in this chart is more scattered, with no clear concentration trend. A possible explanation is that in ADF+4 mode, vehicle speed selection is more flexible and lacks specific preferences.\n",
    "\n",
    "**Different ADF modes exhibit distinct speed distributions, reflecting varying macroscopic traffic flow characteristics. For example, in the ADF mode, the traffic model may depict that most vehicles on the road maintain relatively stable speeds for the majority of the time. In the ADF mode, the model portrays relatively stable driving behavior. In ADF+1 and ADF+2 modes, vehicles demonstrate smoother acceleration patterns, which are particularly useful for simulating typical traffic conditions, such as congestion analysis during peak hours. This provides valuable guidance for parameter selection in later modeling, enhancing the ability to simulate and understand vehicle behavior and traffic flow in different traffic scenarios.**"
   ]
  },
  {
   "cell_type": "code",
   "execution_count": null,
   "metadata": {},
   "outputs": [],
   "source": [
    "# new directory\n",
    "DIR = PROJECT_FILE + \"/data/HA\"\n",
    "csv_files = [f for f in os.listdir(DIR) if f.endswith('.csv') and f.startswith(\"ADF\")]\n",
    "\n",
    "fig, axs = plt.subplots(2, 5, figsize=(20, 4))\n",
    "\n",
    "for i, csv_file in enumerate(csv_files):\n",
    "\n",
    "    # construct a complete directory\n",
    "    file_path = os.path.join(DIR, csv_file)\n",
    "    df = pd.read_csv(file_path)\n",
    "    \n",
    "    # extract data we need and sample to make the number of data entry from each scene is consistent\n",
    "    data = df.groupby('ID').sample(2)\n",
    "    \n",
    "    # calculate index\n",
    "    row = 0 \n",
    "    col = i\n",
    "    \n",
    "    # plotting\n",
    "    sns.histplot(data['v_follow'], bins=100, kde=False, edgecolor='black', ax=axs[row, col])\n",
    "    axs[row, col].set_xlabel('Follow Velocity (m$\\cdot$s$^{-1}$)')\n",
    "    axs[row, col].set_ylabel('Frequency')\n",
    "    axs[row, col].set_title(f'{csv_file}')\n",
    "\n",
    "    sns.histplot(data['a_follow'], bins=100, kde=False, edgecolor='black', ax=axs[row + 1, col])\n",
    "    axs[row + 1, col].set_xlabel('Follow Acceleration (m$/$s$^{2}$)')\n",
    "    axs[row + 1, col].set_ylabel('Frequency')\n",
    "    axs[row + 1, col].set_title(f'{csv_file}')\n",
    "\n",
    "\n",
    "\n",
    "plt.tight_layout()\n",
    "plt.show()"
   ]
  },
  {
   "attachments": {},
   "cell_type": "markdown",
   "metadata": {},
   "source": [
    "## 3.2 Correlation Analysis"
   ]
  },
  {
   "attachments": {},
   "cell_type": "markdown",
   "metadata": {},
   "source": [
    "\n",
    "### 3.2.1 Relationship between Following Vehicle Speed and Headway\n"
   ]
  },
  {
   "attachments": {},
   "cell_type": "markdown",
   "metadata": {},
   "source": [
    "These charts illustrate the relationship between the headway (gap between vehicles) and the average speed of following vehicles.\n",
    "\n",
    "This chart displays the relationship between different types of vehicle following distances and the average speeds of trailing vehicles. From the chart, it can be observed that there are the most medium-sized vehicles, and the following speeds are primarily centered around 16 m/s, with following distances around 20 meters. The following speeds and following distances for small-sized vehicles exhibit slightly smaller variations, indicating a smoother driving pattern. This suggests that the driving behavior of small-sized vehicles is relatively more stable.\n",
    "\n",
    "For large-sized vehicles, the following speeds are more concentrated around 17 m/s, with a larger proportion of them having following distances below 15 meters. This chart highlights that different vehicle types have distinct habits in terms of following distances and speeds. Furthermore, based on the trends shown in the chart, it can be observed that regardless of the vehicle type, there is a tendency to adopt higher speeds with greater inter-vehicle spacing. This information can serve as a reference for establishing parameters for different vehicle types in future traffic models and provides insights into the relationship between the speeds and following distances of all following vehicles.\n",
    "\n",
    "**Conclusion: Most data points indicate that as the following distance increases, the speed of following vehicles tends to rise. This suggests that when the current vehicle maintains a greater distance from the preceding one, the following vehicle is more inclined to accelerate. This may be due to the perception of having more reaction time in a larger space, which makes them feel safer. These observations hold significant guidance for subsequent model development, unveiling one of the fundamental decision factors for rear-end acceleration. Models can utilize these findings for more precise predictions of driver behavior, facilitating parameter selection based on different traffic patterns, leading to an improved simulation and understanding of vehicle behavior and traffic flow in various traffic scenarios.**"
   ]
  },
  {
   "cell_type": "code",
   "execution_count": null,
   "metadata": {},
   "outputs": [],
   "source": [
    "#　define the path\n",
    "FOLDER_PATH = PROJECT_FILE + \"data/HH\"\n",
    "HH_file_path = PROJECT_FILE + 'data/HH/multi_size.csv' \n",
    "\n",
    "df2 = pd.read_csv(HH_file_path)  # read the HH file in advance\n",
    "\n",
    "df1 = pd.read_csv(FOLDER_PATH + '/ADF_multi_data.csv')\n",
    "\n",
    "df1['x_lead_follow_diff'] = df1['x_lead'] - df1['x_follow']\n",
    "mean_x_lead_follow_diff = df1.groupby('ID')['x_lead_follow_diff'].mean()\n",
    "\n",
    "# merge DF1 and DF2, match with the ID key\n",
    "df_combined = df1.merge(df2, on='ID')\n",
    "types = df_combined[\"size_follow\"].apply(get_car_type)\n",
    "\n",
    "# calculate half_size_sum，using size_lead和size_follow\n",
    "half_size_sum = (df_combined['size_lead'] + df_combined['size_follow']) * 0.5\n",
    "s = mean_x_lead_follow_diff - half_size_sum\n",
    "\n",
    "car_0_to_1000 = df_combined\n",
    "mean_a_follow = df_combined.groupby('ID')['v_follow'].mean()\n",
    "\n",
    "sns.set(style=\"whitegrid\")\n",
    "g = sns.jointplot(x=s, y=mean_a_follow, data=car_0_to_1000, kind=\"scatter\", hue=types, height=7)\n",
    "\n",
    "g.fig.suptitle(f'Scatter Plot for Cars Gap-Velocity on all ADF data', y=1.02)\n",
    "g.set_axis_labels(\"Gap(m)\", \"Mean velocity of followed cars(m/s)\")\n",
    "\n",
    "plt.show()"
   ]
  },
  {
   "attachments": {},
   "cell_type": "markdown",
   "metadata": {},
   "source": [
    "\n",
    "### 3.2.2 Scatter Plots of Speed and Corresponding Acceleration for Different Vehicles\n"
   ]
  },
  {
   "attachments": {},
   "cell_type": "markdown",
   "metadata": {},
   "source": [
    "1. Scatter Heatmap for Lead Cars' Velocity-Acceleration:\n",
    "This chart illustrates the relationship between the velocity of lead cars (Lead Velocity) and their acceleration (Lead Acceleration). The velocity ranges from 0 to approximately 25, while the acceleration ranges from approximately -7.5 to 10. The densest data points are concentrated in the region of low velocity and acceleration close to 0. This indicates that in such scenarios, most lead cars maintain a steady speed with minimal acceleration or deceleration. As velocity increases, the distribution of acceleration becomes wider, suggesting that at higher speeds, driver reactions and decisions become more varied.\n",
    "\n",
    "2. Scatter Heatmap for Follow Cars' Velocity-Acceleration:\n",
    "This chart depicts the relationship between the velocity of follow cars (Follow Velocity) and their acceleration (Follow Acceleration). The velocity range is the same as in the lead cars' chart, while the acceleration range is slightly smaller, ranging from approximately -6 to 8. The data distribution is similar to that of the lead cars' chart, with the densest data points also concentrated in the region of low velocity and acceleration near 0. This suggests that follow cars also tend to maintain a steady speed at these lower velocities. In comparison to lead cars, the acceleration distribution of follow cars at higher speeds is slightly more concentrated, indicating that follow cars exhibit more conservative driving behavior at higher speeds.\n",
    "\n",
    "Both charts indicate that at lower speeds, most vehicles tend to maintain a steady speed with minimal acceleration or deceleration. Lead cars exhibit a relatively broader acceleration distribution at higher speeds, while follow cars show a more concentrated acceleration distribution at the same speeds. This may reflect the more conservative driving behavior of follow cars when traveling at higher speeds. Overall, both charts demonstrate stability in vehicle behavior at lower speeds and reveal different driving behavior patterns at higher speeds.\n",
    "\n",
    "**At low speeds, most vehicles exhibit relatively stable speed and acceleration behaviors, whereas at high speeds, differences in behavior between leading and following vehicles may require further explanation in the model. For instance, leading vehicles at high speeds may tend to change their speeds more, while following vehicles may adopt a more conservative approach. This may imply some latent car following behaviour for further formulating car following model**"
   ]
  },
  {
   "cell_type": "code",
   "execution_count": null,
   "metadata": {},
   "outputs": [],
   "source": [
    "# Read data for both plots\n",
    "sns.set_theme(style=\"dark\")\n",
    "file_path = MULTI_FILE\n",
    "df = pd.read_csv(file_path)\n",
    "df_size = pd.read_csv(MULTI_SIZE_FILE)\n",
    "\n",
    "df = df.merge(df_size, on='ID')\n",
    "df[\"type\"] = df[\"size_follow\"].apply(get_car_type)\n",
    "\n",
    "\n",
    "df_grouped = df.groupby(\"ID\").sample(2, replace=2)\n",
    "\n",
    "# Create a figure with two subplots\n",
    "fig, axes = plt.subplots(1, 2, figsize=(12, 6))\n",
    "\n",
    "\n",
    "\n",
    "# First subplot - Lead Cars\n",
    "axes[0].set_title('Scatter Heatmap for lead cars velocity-acceleration')\n",
    "axes[0].set_xlabel('Lead Velocity')\n",
    "axes[0].set_ylabel('Lead Acceleration')\n",
    "sns.scatterplot(x=df_grouped['v_lead'], y=df_grouped['a_lead'], s=7, color=\".15\", ax=axes[0], hue=df_grouped[\"type\"], palette=\"Spectral\")\n",
    "# sns.kdeplot(x=x_lead, y=y_lead, levels=5, color=\"w\", linewidths=1, ax=axes[0])\n",
    "\n",
    "\n",
    "# Second subplot - Follow Cars\n",
    "axes[1].set_title('Scatter Heatmap for follow cars velocity-acceleration')\n",
    "axes[1].set_xlabel('Follow Velocity')\n",
    "axes[1].set_ylabel('Follow Acceleration')\n",
    "sns.scatterplot(x=df_grouped[\"v_follow\"], y=df_grouped[\"a_follow\"], s=7, color=\".15\", ax=axes[1], hue=df_grouped[\"type\"], palette=\"Spectral\")\n",
    "\n",
    "\n",
    "# Adjust the spacing between subplots\n",
    "plt.tight_layout()\n",
    "\n",
    "# Show the entire figure\n",
    "plt.show()"
   ]
  },
  {
   "attachments": {},
   "cell_type": "markdown",
   "metadata": {},
   "source": [
    "## 3.3 Conclusion"
   ]
  },
  {
   "attachments": {},
   "cell_type": "markdown",
   "metadata": {},
   "source": [
    "Back to the question we put forward at first: \n",
    "\n",
    "How to evaluate the comprehensiveness and the goodness of the dataset we use? Are there correlations or characteristics across different sets of car following variables(e.g.headway, follower's velocity and acceleration)?\n",
    "\n",
    "- There exists heterogeneity in different driving behaviours, in order to describe these heterogeneity, different parameters sets are applied into models to describe the driving behaviour characteristics of different drivers(for example, how aggressive a driver is.). High diversity in drviers performance means ensures the comprehensiveness of the data we use.\n",
    "- Different extended ADF regimes data exhibit distinct speed distributions, reflecting different macroscopic traffic flow characteristics, which ensures that the diversity of data for parameter estimation in car following models. Moreover, the using ADF regimes data to estimate driving behaviours has been widely accepted. Therefore, the data we decide to use is comprehensive and diverse enough to describe different driving behaviours.\n",
    "- There are correlations between velocity and acceleration & gap between vehicles, for example, when driving at higher speed, driviers are tend to be less aggressive(i.e. less change in acceleration), and larger the gap between 2 vehicles is, the higher velocity the follower is in order to fill the gap till reaching the rear of the leading vehicle. These 2 observations provide 2 fundamental assumptions to formulate the models below."
   ]
  },
  {
   "attachments": {},
   "cell_type": "markdown",
   "metadata": {},
   "source": [
    "# 4. Models, Parameters Estimation & Pros and Cons"
   ]
  },
  {
   "cell_type": "code",
   "execution_count": 1,
   "metadata": {},
   "outputs": [],
   "source": [
    "import numpy as np\n",
    "import matplotlib.pyplot as plt\n",
    "import pandas as pd\n",
    "import os \n",
    "import random\n",
    "\n",
    "\n",
    "TEST_NUM = 500\n",
    "PROJECT_FILE = \"..\\data\\HA\"\n",
    "DEBUG = False"
   ]
  },
  {
   "cell_type": "markdown",
   "metadata": {},
   "source": [
    "## 4.1 Models"
   ]
  },
  {
   "cell_type": "markdown",
   "metadata": {},
   "source": [
    "### 4.1.1 Desired Measures Models (Intelligent Driver Model)\n",
    "\n",
    "\n",
    "\n"
   ]
  },
  {
   "cell_type": "markdown",
   "metadata": {},
   "source": [
    "The model presumes that each driver has a desired velocity, headway, and the drivers try to minimize the gap between the actual value and the desired value, while constrained by a variety of conditions, for instance safety distances. Intelligent Driver Model(IDM) is catagorized in this catagorization:\n",
    "\n",
    "Drivers try to minimize the following distance, and minimize both the speed difference and desired headway as well. In IDM model:\n",
    "\n",
    "1. The influence factors include own speed $v$, the bumper-to-bumper gap $s$ to the lead vehicle, and the difference of the speed $\\Delta v = v - v_{\\text{lead}}$\n",
    "\n",
    "2. The model only outputs the acceleration $a$ on the following car.\n",
    "\n",
    "3. The model parameters are driving styles.\n",
    "\n",
    "The IDM model equations are fomulated as follows:\n",
    "$$\n",
    "\\begin{aligned}\n",
    "&\\frac{dv}{dt} = a\\left[1 - \\left(\\frac{v}{v_0}\\right)^\\sigma - \\left(\\frac{s^*(v, \\Delta v)}{s}\\right)^2 \\right]\\\\\n",
    "\n",
    "&s^*(v, \\Delta v) = s_0 + \\max\\left[0, \\left(vT+\\frac{v\\Delta v}{2 \\sqrt{ab}}\\right)\\right]\n",
    "\\end{aligned}\n",
    "$$"
   ]
  },
  {
   "cell_type": "markdown",
   "metadata": {},
   "source": [
    "where,\n",
    "- $\\frac{dv}{dt}$ is the acceleration the follower vehicle will achieve in the next timestep.\n",
    "- $a$ is the desired acceleration.\n",
    "- $b$ is the desired deceleration.\n",
    "- $v$ is the velocity of the follower in the current timestep.\n",
    "- $v_0$ is the desired velocity of the follower.\n",
    "- $s$ is the front-to-rear gap between 2 vehicles, which can be calculated by $x_\\text{lead}(t)-x_\\text{follow}(t) - \\frac{1}{2}(l_\\text{lead} + l_\\text{follow})$\n",
    "- $s^*(v,\\Delta v)$ is the desired dynamical gap.\n"
   ]
  },
  {
   "cell_type": "code",
   "execution_count": 2,
   "metadata": {},
   "outputs": [],
   "source": [
    "class Car:\n",
    "    \n",
    "    def __init__(self, size: float, xs: np.array = [], vs: np.array = [], a_s: np.array = []) -> None:\n",
    "        self.vs = vs  # a list consist of all velocities in all timesteps.\n",
    "        self.xs = xs\n",
    "        self.a_s = a_s\n",
    "        self.size = size"
   ]
  },
  {
   "cell_type": "code",
   "execution_count": 12,
   "metadata": {},
   "outputs": [],
   "source": [
    "## IDM models with arbitary parameters\n",
    "\n",
    "class IDM:\n",
    "    \n",
    "    def __init__(self, param: dict) -> None:\n",
    "        ## dict = {v0, s0, T, a, b}\n",
    "        self.v0 = param['v0']  # the velocity the vehicle would drive at in free traffic\n",
    "        self.s0 = param['s0'] # a minimum desired net distance.\n",
    "        self.T = param['T'] # the minimum possible time to the vehicle in front\n",
    "        self.a = param['a'] # the maximum vehicle acceleration\n",
    "        self.b = param['b'] # a positive number (comfortable breaking deceleration)\n",
    "        self.sigma = 4 # exponent factor, usually set to 4\n",
    "\n",
    "    def get_desired_s(self, v_this, delta_v_i):\n",
    "        \n",
    "        desired_s = v_this * self.T + v_this * delta_v_i / (2 * np.sqrt(self.a * self.b))\n",
    "        return self.s0 + max(0, desired_s)\n",
    "    \n",
    "    def get_new_a(self, v_this, v_front, s_this):\n",
    "\n",
    "    # TODO: Braking Delecration is too big! WHY? and why is the initial acceleration drops so drastically???\n",
    "        \n",
    "        delta_v_i = v_this - v_front\n",
    "\n",
    "        if DEBUG:\n",
    "            print(\"free flow acceleration:\", self.a * (1 - np.power(v_this / self.v0, self.sigma)))\n",
    "            print(\"braking deceleration:\", self.a * np.power((self.get_desired_s(v_this, delta_v_i) / s_this), 2))\n",
    "            print(\"desired_s:\", self.get_desired_s(v_this, delta_v_i))\n",
    "            print(\"delta_v:\", delta_v_i)\n",
    "        \n",
    "        a_next = self.a * (1 - np.power(v_this / self.v0, self.sigma) - np.power((self.get_desired_s(v_this, delta_v_i) / s_this), 2))\n",
    "        return a_next\n",
    "    \n",
    "    def update(self, lead_car: Car, this_car: Car, time_steps):\n",
    "        \"\"\"\n",
    "            \n",
    "        \"\"\"\n",
    "        assert this_car is not None\n",
    "        \n",
    "        N = len(lead_car.xs)\n",
    "        \n",
    "        for i in range(1, N):\n",
    "\n",
    "            time_step = time_steps[i] - time_steps[i - 1]\n",
    "            this_v_now = this_car.vs[i - 1]\n",
    "            lead_v_now = lead_car.vs[i - 1]\n",
    "            this_s_now = this_car.xs[i - 1]\n",
    "            lead_s_now = lead_car.xs[i - 1]\n",
    "            \n",
    "            gap_now = lead_s_now - this_s_now - 1/2 * (lead_car.size + this_car.size)  # the distance is head's distance\n",
    "            this_v_a = self.get_new_a(this_v_now, lead_v_now, gap_now)\n",
    "            # update\n",
    "            if this_v_now + this_v_a * time_step < 0:\n",
    "                this_car.vs.append(0)\n",
    "            else:\n",
    "                this_car.vs.append(this_car.vs[i - 1] + time_step * this_v_a)\n",
    "            this_car.xs.append(this_car.xs[i - 1] + this_car.vs[i - 1] * time_step + 1 / 2 * this_v_a * pow(time_step, 2))\n",
    "            this_car.a_s.append(this_v_a)\n",
    "\n",
    "            if DEBUG:\n",
    "                print(\"this_v_now:\", this_v_now)\n",
    "                print(\"lead_v_now:\", lead_v_now)\n",
    "                print(\"a:\", this_v_a)\n",
    "                print(\"actual_s:\", gap_now)\n",
    "                print(\"========================\")"
   ]
  },
  {
   "attachments": {},
   "cell_type": "markdown",
   "metadata": {},
   "source": [
    "### 4.1.2 Gipps' Model"
   ]
  },
  {
   "cell_type": "markdown",
   "metadata": {},
   "source": [
    "Gipps' model is the most popular safety distance model, which assumes that the speeid is selected by the driver to ensure the safety between two vehicles can be held.\n",
    "Gipps' model includes two modes of driving: free-flow and CF. The Gipps Model equations are formulated as follows:\n",
    "\n",
    "$$\n",
    "V(t+\\tau) = \\min\\left\\{\n",
    "    \n",
    "    \\begin{aligned}\n",
    "    &V(t) + 2.5a_0\\tau(1-V(t)/V^*)(0.025V(t)/V^*)^{1/2}\\\\\n",
    "    &b_0\\tau + \\sqrt{b_0^2 \\tau^2 - b_0[2s(t)-V(t)\\tau - \\frac{V'(t)^2}{b_0}]}\n",
    "    \\end{aligned}\n",
    "    \n",
    "    \n",
    "    \\right.\n",
    "$$"
   ]
  },
  {
   "cell_type": "markdown",
   "metadata": {},
   "source": [
    "due to the different mechanism under these two models, we apply different symbols and notations to describe them.\n",
    "in above models:\n",
    "- $\\tau$ is the reacting time. usually is $0.2$(s)\n",
    "- $a_0$ is the max acceleration that a vehicle can achieve.\n",
    "- $b_0$ is the min acceleration that a vehicle can achieve.\n",
    "- $V(t)$ is the velocity of the following vehicle at time $t$.\n",
    "- $V^*$ is the desired speed that the following vehicle want to achieve (i.e. in free flow mode)\n",
    "- $s(t)$ is the distance to the rear of the front vehicle $x_\\text{lead}(t)-x_\\text{follow}(t) - \\frac{1}{2}(l_\\text{lead} + l_\\text{follow})$, due to the $x$ here is the centroid of a vehicle."
   ]
  },
  {
   "cell_type": "code",
   "execution_count": 4,
   "metadata": {},
   "outputs": [],
   "source": [
    "## Gipps model\n",
    "\n",
    "class Gipps:\n",
    "    \n",
    "    def __init__(self, param) -> None:\n",
    "        self.rect_time = param[\"rect_time\"]\n",
    "        self.max_b = param[\"max_b\"]\n",
    "        self.max_a = param[\"max_a\"]\n",
    "        self.v0 = param[\"v0\"]\n",
    "\n",
    "\n",
    "    def update(self, lead_car: Car, this_car: Car, time_steps):\n",
    "        \n",
    "        N = len(lead_car.xs)\n",
    "        this_car.a_s = None  # Gipps model doesn't need a for estimating\n",
    "        \n",
    "        for i in range(1, N):\n",
    "            \n",
    "            time_step = time_steps[i] - time_steps[i - 1]\n",
    "            this_v_now = this_car.vs[i - 1]\n",
    "            lead_v_now = lead_car.vs[i - 1]\n",
    "            this_s_now = this_car.xs[i - 1]\n",
    "            lead_s_now = lead_car.xs[i - 1]\n",
    "\n",
    "            gap_now = lead_s_now - this_s_now - 1/2 * (lead_car.size + this_car.size)\n",
    "\n",
    "            this_v = min(- self.max_b * self.rect_time + np.sqrt(pow(self.max_b, 2) * pow(self.rect_time, 2) + self.max_b * (2*(gap_now)- self.rect_time * this_v_now + pow(lead_v_now, 2)/self.max_b)),\n",
    "                        this_v_now + 2.5 * self.max_a * self.rect_time * (1 - this_v_now / self.v0) * pow((0.025 + this_v_now / self.v0), 2))\n",
    "\n",
    "            this_car.vs.append(this_v)\n",
    "            this_car.xs.append(this_car.xs[i - 1] + this_car.vs[i - 1] * time_step)\n"
   ]
  },
  {
   "cell_type": "markdown",
   "metadata": {},
   "source": [
    "### 4.1.3 Result\n"
   ]
  },
  {
   "cell_type": "markdown",
   "metadata": {},
   "source": [
    "Even though the two models above are formualted in the form of continuous time domain, in order to simulate the car-following models on computer, we have to assume that the domain is discrete:\n",
    "$$\n",
    "$$\n",
    "\n",
    "According to the dataset, the timestep is set to be $0.1$ (s) for each entry of data. Thus, we decide to conform to that convention."
   ]
  },
  {
   "cell_type": "code",
   "execution_count": 5,
   "metadata": {},
   "outputs": [],
   "source": [
    "CARS = np.loadtxt(os.path.join(PROJECT_FILE, \"ADF_multi_data.csv\"), delimiter=\",\", skiprows=1)\n",
    "SIZES = np.loadtxt(os.path.join(PROJECT_FILE, \"multi_size.csv\"), delimiter=\",\", skiprows=1)\n",
    "\n",
    "test_scenes = []\n",
    "sizes = []\n",
    "\n",
    "available_ids = np.unique(CARS[:, 0])[:TEST_NUM]\n",
    "\n",
    "for i in available_ids:\n",
    "    test_scenes.append(np.squeeze(CARS[np.where(CARS[:, 0] == i), :], 0))\n",
    "    sizes.append(np.squeeze(SIZES[np.where(SIZES[:, 0] == i), 1:], (0, 1)))"
   ]
  },
  {
   "cell_type": "code",
   "execution_count": 17,
   "metadata": {},
   "outputs": [
    {
     "name": "stdout",
     "output_type": "stream",
     "text": [
      "TOTAL TIME STEP: 230\n"
     ]
    },
    {
     "data": {
      "image/png": "[encoded data removed]",
      "text/plain": [
       "<Figure size 640x480 with 1 Axes>"
      ]
     },
     "metadata": {},
     "output_type": "display_data"
    },
    {
     "data": {
      "image/png": "[encoded data removed]",
      "text/plain": [
       "<Figure size 640x480 with 1 Axes>"
      ]
     },
     "metadata": {},
     "output_type": "display_data"
    },
    {
     "name": "stdout",
     "output_type": "stream",
     "text": [
      "[-0.2829258661071516, 0.7552315133470131, 0.7547369205621061, 0.7542255553868342, 0.7536964206202192, 0.7531542931683086, 0.75257755849152, 0.7485390314839568, 0.742707687028497, 0.7341452931808414, 0.7236323673226619, 0.7134260941914213, 0.6829754640998666, 0.6538526524738086, 0.652039561611477, 0.639422328853965, 0.6201174598617887, 0.6111236612178728, 0.6053350432233918, 0.5907738627768053, 0.574461549580151, 0.523921628751857, 0.472415118731959, 0.45697890692439214, 0.4457444998134197, 0.4464673626635669, 0.42494059675596907, 0.38434733845661095, 0.3591925638470298, 0.3267091716674908, 0.273984440665624, 0.2213142530949818, 0.18310419313157952, 0.11893819650691997, 0.05423817721013427, 0.07478237907330608, 0.071066335722802, 0.0270258324355245, -0.0020115555352919756, -0.04853183513863897, -0.09096511242582608, -0.1263947537406745, -0.15849773598115544, -0.20702210698530843, -0.27019909383637314, -0.26206037374313546, -0.21615568740422503, -0.33599408885963256, -0.4912774518617169, -0.48929345483247594, -0.4799869669093452, -0.44073626953351114, -0.3986412209434225, -0.3579349018409965, -0.32159074007116123, -0.28368688242516465, -0.26765678956002187, -0.2338755374136121, -0.16520573155102253, -0.11985539404003856, -0.07638457146964389, -0.04236176381484835, -0.04689131167570953, -0.06794462731741745, -0.06593324801011012, -0.06714551574032264, -0.05968916364750481, -0.013883204438230124, 0.037267956111809754, 0.041027470306348596, -0.008486827005842646, -0.05749768983898873, -0.07012152326559402, -0.06626819831829547, -0.07189214388322372, -0.06380098266474743, -0.0514958354491494, -0.09424022733917417, -0.13312839212659852, -0.09982035694794283, -0.030225663591489572, 0.010373526565020264, 0.029574603528479494, 0.040618414200783985, 0.03106900348846935, -0.017997070928121417, -0.04036004462780936, -0.014905159682793113, -0.05313642218881123, -0.11115253887424377, -0.07651409976496222, -0.03985673458049526, -0.07021438301272394, -0.026611495465998572, 0.06586937166557183, -0.17497933459598106, -0.32997272629891045, -0.04244072852998775, 0.11393963613859857, 0.17686644119727105, 0.2072718838666112, 0.18812487616486528, 0.15606260914207654, 0.16309637079458827, 0.15483403335914972, 0.12056281456397891, 0.08496214512059348, 0.05207787359819829, -0.022520597463695946, -0.1482127372079167, -0.25536665899267164, -0.24600685604233563, -0.2237568441548229, -0.2829062594235247, -0.30587461740029465, -0.3097122767799446, -0.3040928875683013, -0.275936455145652, -0.26730778519602155, -0.19761461746321887, -0.14425801723488726, -0.13316159103887887, -0.11520542017889134, -0.1577568496263158, -0.17366665553438915, -0.20466396204800763, -0.3128880015139084, -0.40050962669788626, -0.40928305959556754, -0.36932135056798787, -0.3712018239982867, -0.4072340199552663, -0.38792504880866546, -0.29539501770907933, -0.20309158211323375, -0.15600457516164631, -0.0739751881409945, -0.03785056835824259, -0.08292351734496393, -0.08040306920186353, 0.010207096402464711, 0.03509544456592861, -0.235636962626956, -0.31614704111026504, -0.09171238249193081, -0.0187832950128505, 0.06121938807695529, 0.1108703914002847, 0.11570154144756302, 0.1305226326560062, 0.17629945083166262, 0.17448950210832886, 0.1615270203281657, 0.18721804990181462, 0.19802411859829708, 0.08604959786915663, 0.05410960817690152, 0.14626649266233738, 0.10664270459027546, 0.10377605953386651, 0.13074147956629814, 0.09150774475412034, 0.07681755001343396, 0.07388454205186604, 0.05232779988383732, 0.057954455939811036, 0.04072134897461739, 0.049483051795562276, 0.023848921777518586, 0.013371590372417242, 0.0883270927478682, 0.14396425488060602, 0.1836288135329155, 0.17026514276469282, 0.1588437653302063, 0.20354842616537364, 0.18831058840754242, 0.06335432597992056, 0.0503384357553804, 0.03675526796123414, -0.00440782005926268, 0.03962552293273811, 0.03630587972448538, 0.07001787389525305, 0.1071690211268006, 0.1190413367692206, 0.12587433814848464, 0.13312231293885005, 0.08029869359544667, 0.05006269550753473, -0.006944996046347818, 0.018081611374168017, 0.13167632907441718, 0.11681796236066244, 0.08495724748300032, 0.08082218997892712, 0.07620475725061393, 0.06158544695928177, 0.044555206269501206, -0.02152377852545211, -0.07804808625463196, -0.03167327365787971, 0.051600336982891196, 0.08801217813119183, 0.015999228390479913, 0.0012179108132239769, 0.06480665622717367, 0.07609925377335705, 0.10136432321752711, 0.07263246166055178, 0.017561887398295364, 0.045116872259488086, 0.06553197582098927, 0.01376951926762331, -0.2360944067959089, -0.23824892359153216, 0.05384962469701531, 0.09253977500001298, 0.11462121740868057, 0.1387583535880503, 0.08466153803488102, 0.03338141107438828, 0.003936032208975604, -0.05682991422978523, -0.11893004532931073, -0.03927139578595318, 0.041000752191228874, -0.03072082103645082, -0.0962047146707059, -0.104319348347929]\n"
     ]
    },
    {
     "data": {
      "image/png": "[encoded data removed]",
      "text/plain": [
       "<Figure size 640x480 with 1 Axes>"
      ]
     },
     "metadata": {},
     "output_type": "display_data"
    }
   ],
   "source": [
    "## ==========================\n",
    "DEBUG = False\n",
    "\n",
    "# random integer for drawing a sample to plot\n",
    "# i = random.randint(0, TEST_NUM - 1)\n",
    "i = 100\n",
    "\n",
    "test_scene = test_scenes[i]\n",
    "size = sizes[i]\n",
    "timesteps = test_scene[:, 7]\n",
    "\n",
    "print(\"TOTAL TIME STEP: %d\" %test_scene.shape[0] )\n",
    "\n",
    "\n",
    "car_front = Car(size[0], test_scene[:, 1], test_scene[:, 2], test_scene[:, 3])\n",
    "\n",
    "car_follow = Car(size[1], [test_scene[0, 4]], [test_scene[0, 5]], [test_scene[0, 6]])\n",
    "\n",
    "car_follow_real = Car(size[1], [test_scene[:, 4]], [test_scene[:, 5]], [test_scene[:, 6]])\n",
    "\n",
    "param = {\n",
    "    \"v0\": 30,\n",
    "    \"s0\":  2,\n",
    "    \"T\": 0.02,\n",
    "    \"a\": 0.8,\n",
    "    \"b\": 3,\n",
    "    \"sigma\": 4\n",
    "}\n",
    "\n",
    "idm = IDM(param)\n",
    "\n",
    "idm.update(car_front, car_follow, timesteps)\n",
    "\n",
    "plt.plot(car_front.xs, label=\"lead vehicle\")\n",
    "plt.plot(car_follow.xs, label=\"estimated follow vehicle\")\n",
    "plt.plot(car_follow_real.xs[0], label=\"actual follow vehicle\")\n",
    "plt.legend()\n",
    "plt.show()\n",
    "\n",
    "plt.plot(car_follow.vs, label=\"estimated follow vehicle\")\n",
    "plt.plot(car_follow_real.vs[0], label=\"actual follow vehicle\")\n",
    "plt.legend()\n",
    "plt.show()\n",
    "\n",
    "plt.plot(car_follow.a_s, label=\"estimated follow vehicle\")\n",
    "print(car_follow.a_s)\n",
    "plt.plot(car_follow_real.a_s[0], label=\"actual follow vehicle\")\n",
    "plt.legend()\n",
    "plt.show()"
   ]
  },
  {
   "cell_type": "markdown",
   "metadata": {},
   "source": [
    "## 4.2 Parameter Estimation\n",
    "\n"
   ]
  },
  {
   "cell_type": "markdown",
   "metadata": {},
   "source": [
    "After deriving the models, we have to calibrate their parameters with real world data to improve their performance. However, calibrating the parameters with the real-life data is not a easy thing. \n",
    "\n",
    "First, Based on the research of Anshuman[2], in order to calibrate the IDM model, the data are required to meet the completeness condition, i.e. one scenario consists of at least A(Acceleration), D(Deceleration) and F(Following) regimes.\n",
    "Therefore, in the data preprocessing stage, we already split the data into ADF, ADF+1, ADF+2 and ADF+n for further process.\n",
    "\n",
    "Second, the popular calibration methods is Genetic Algorithms(GA), which is a method for solving optimization problems that is based on natural selection, the process that drives biological evolution. After achieving the optimal value for minimizing the loss function (which we will define later) on the train dataset, it's safe to identify that they are the approximate optimal set of parameters, due to the GA is an evolutionary algorithms, which determines that the solution it provides is local optimal, instead of global optimal.\n"
   ]
  },
  {
   "cell_type": "code",
   "execution_count": 7,
   "metadata": {},
   "outputs": [],
   "source": [
    "## import dependencies\n",
    "\n",
    "from sko.GA import GA \n",
    "\n",
    "# Constant values\n",
    "\n",
    "DATA_FILE = os.path.join(PROJECT_FILE, \"ADF_multi_data.csv\")"
   ]
  },
  {
   "cell_type": "code",
   "execution_count": 18,
   "metadata": {},
   "outputs": [],
   "source": [
    "def _single_test(test_scene, size, model):\n",
    "\n",
    "    car_front = Car(size[0], test_scene[:, 1], test_scene[:, 2], test_scene[:, 3])\n",
    "\n",
    "    car_follow = Car(size[1], [test_scene[0, 4]], [test_scene[0, 5]], [test_scene[0, 6]])\n",
    "\n",
    "    car_follow_real = Car(size[1], [test_scene[:, 4]], [test_scene[:, 5]], [test_scene[:, 6]])\n",
    "\n",
    "    timesteps = test_scene[:, 7]\n",
    "    \n",
    "    LENGTH = len(car_front.xs)\n",
    "\n",
    "    model.update(car_front, car_follow, timesteps)\n",
    "\n",
    "    \n",
    "    return np.sqrt(1 / LENGTH * np.sum(np.square([x1 - x2 for x1, x2 in zip(car_follow_real.xs[0], car_follow.xs)]))) + np.sqrt(1 / LENGTH * np.sum(np.square([v1 - v2 for v1, v2 in zip(car_follow_real.vs[0], car_follow.vs)])))\n",
    "\n",
    "\n",
    "def outer_fitness(test_scene, size, Model, get_param_set):\n",
    "\n",
    "    def fitness(param_set):\n",
    "\n",
    "        param = get_param_set(param_set)\n",
    "        # print(param)\n",
    "\n",
    "        model = Model(param)\n",
    "\n",
    "        error = _single_test(test_scene, size, model)\n",
    "\n",
    "        return error\n",
    "    \n",
    "    return fitness"
   ]
  },
  {
   "cell_type": "code",
   "execution_count": 22,
   "metadata": {},
   "outputs": [
    {
     "name": "stdout",
     "output_type": "stream",
     "text": [
      "[1.0, 16.11111111111111, 1.96, 0.71, 2.5, 1.74, 4, 1.1146488225660653]\n",
      "[9.0, 33.333333333333336, 4.0, 1.04, 2.5, 2.5, 4, 1.7074677176427415]\n",
      "[11.0, 16.11111111111111, 1.96, 0.86, 0.8, 2.5, 4, 1.9864561502339764]\n",
      "[12.0, 8.61111111111111, 0.49, 0.92, 2.3, 1.59, 4, 0.7183629297425518]\n",
      "[15.0, 13.61111111111111, 0.22, 0.83, 0.8, 2.5, 4, 0.708641529128503]\n",
      "[17.0, 18.61111111111111, 0.1, 1.25, 0.83, 2.5, 4, 3.0839927264697495]\n",
      "[21.0, 16.11111111111111, 0.88, 0.62, 0.98, 2.5, 4, 1.3705396236248368]\n",
      "[24.0, 33.333333333333336, 3.25, 0.53, 0.8, 2.5, 4, 1.8414718815034645]\n",
      "[25.0, 33.333333333333336, 4.0, 0.71, 0.8, 2.5, 4, 3.159289497371766]\n",
      "[29.0, 13.61111111111111, 4.0, 0.62, 0.98, 2.5, 4, 1.0469497979082492]\n",
      "[33.0, 33.333333333333336, 4.0, 0.56, 0.89, 1.5, 4, 1.2365922044992543]\n",
      "[34.0, 32.77777777777778, 3.73, 0.59, 1.7, 2.5, 4, 1.3323428134968684]\n",
      "[36.0, 18.61111111111111, 1.03, 0.59, 2.5, 2.5, 4, 2.99974120019366]\n",
      "[37.0, 16.944444444444443, 1.27, 1.4, 2.06, 1.59, 4, 1.7509319730313175]\n",
      "[40.0, 12.777777777777777, 0.94, 0.86, 1.28, 2.5, 4, 1.4701176311729545]\n",
      "[43.0, 32.77777777777778, 0.43, 0.5, 0.83, 2.25, 4, 1.7425912911171315]\n",
      "[44.0, 20.27777777777778, 1.15, 0.53, 0.8, 1.53, 4, 1.3922378820674877]\n",
      "[45.0, 14.444444444444445, 0.52, 0.5, 1.01, 1.89, 4, 0.6502297612922326]\n",
      "[46.0, 33.333333333333336, 2.86, 0.5, 2.18, 2.5, 4, 1.4129637804674258]\n",
      "[47.0, 16.11111111111111, 1.66, 0.68, 0.86, 2.5, 4, 0.8122782424461257]\n",
      "[56.0, 21.11111111111111, 0.43, 0.53, 0.83, 1.83, 4, 1.9944091793970753]\n",
      "[57.0, 21.944444444444443, 0.64, 0.53, 0.89, 1.5, 4, 1.7899600824812718]\n",
      "[60.0, 16.11111111111111, 0.43, 0.56, 0.8, 1.59, 4, 1.4448605084038977]\n",
      "[61.0, 27.77777777777778, 4.0, 0.89, 0.8, 2.5, 4, 2.42620823996745]\n",
      "[65.0, 12.777777777777777, 3.52, 0.53, 2.48, 2.5, 4, 1.4341270880895114]\n",
      "[70.0, 33.333333333333336, 1.2400000000000002, 0.53, 2.5, 2.5, 4, 1.238679348496233]\n",
      "[73.0, 16.944444444444443, 4.0, 0.77, 0.8, 2.5, 4, 3.30278825247382]\n",
      "[76.0, 13.61111111111111, 1.42, 1.1, 0.83, 2.5, 4, 1.168086132677931]\n",
      "[79.0, 18.61111111111111, 4.0, 0.53, 0.83, 2.13, 4, 0.6321891999460143]\n",
      "[81.0, 11.11111111111111, 1.0000000000000002, 0.71, 0.86, 2.5, 4, 0.9547064332459263]\n",
      "[89.0, 13.61111111111111, 2.05, 0.53, 1.04, 1.8, 4, 1.9853373743969778]\n",
      "[92.0, 26.944444444444443, 1.9900000000000002, 0.92, 2.18, 1.53, 4, 1.865876382513143]\n",
      "[97.0, 14.444444444444445, 3.61, 0.59, 0.8, 2.5, 4, 0.803036313349141]\n",
      "[100.0, 13.61111111111111, 0.79, 0.62, 0.86, 2.5, 4, 2.828297587922613]\n",
      "[107.0, 14.444444444444445, 1.21, 1.01, 1.07, 1.53, 4, 0.9550301461236305]\n",
      "[108.0, 16.944444444444443, 0.19, 0.83, 1.4, 2.5, 4, 4.870510871027275]\n",
      "[110.0, 17.77777777777778, 3.19, 0.53, 1.1, 2.5, 4, 1.9327960018434076]\n",
      "[118.0, 19.444444444444443, 4.0, 0.56, 0.8, 2.5, 4, 4.008246770627325]\n",
      "[123.0, 33.333333333333336, 2.83, 0.5, 1.19, 2.43, 4, 1.4173405219354338]\n",
      "[126.0, 31.11111111111111, 1.66, 0.53, 0.8, 2.5, 4, 3.8893082493961133]\n",
      "[127.0, 33.333333333333336, 1.2400000000000002, 0.8, 1.13, 2.19, 4, 1.9323655490144098]\n",
      "[131.0, 33.333333333333336, 1.45, 0.5, 0.95, 2.5, 4, 1.3141563730612795]\n",
      "[132.0, 17.77777777777778, 0.58, 0.56, 0.89, 2.5, 4, 1.5187268100194653]\n",
      "[133.0, 33.333333333333336, 0.79, 0.5, 0.83, 2.5, 4, 2.5116704513620816]\n",
      "[134.0, 27.77777777777778, 4.0, 0.77, 0.8, 2.5, 4, 2.471257849671508]\n",
      "[137.0, 12.777777777777777, 1.84, 0.71, 1.01, 2.5, 4, 1.5424931396183166]\n",
      "[138.0, 33.333333333333336, 4.0, 0.86, 2.5, 2.5, 4, 2.056419112480839]\n",
      "[140.0, 33.333333333333336, 0.04, 0.5, 2.5, 2.5, 4, 1.9423168563456157]\n",
      "[142.0, 16.944444444444443, 0.73, 0.5, 1.4, 2.5, 4, 1.3502773513913398]\n",
      "[143.0, 17.77777777777778, 1.33, 0.56, 0.89, 2.5, 4, 1.5292802246359471]\n",
      "[146.0, 31.11111111111111, 0.01, 0.5, 1.88, 2.5, 4, 1.833161729453381]\n",
      "[151.0, 33.333333333333336, 0.25, 0.5, 1.61, 2.5, 4, 2.1824023414971725]\n",
      "[156.0, 12.777777777777777, 1.63, 0.59, 1.91, 1.68, 4, 1.7789580414743225]\n",
      "[160.0, 32.77777777777778, 0.91, 0.5, 0.8, 2.5, 4, 3.0900810069300144]\n",
      "[161.0, 24.444444444444443, 3.58, 0.5, 0.8, 2.5, 4, 1.8214966080531805]\n",
      "[166.0, 16.944444444444443, 1.09, 0.56, 0.83, 2.5, 4, 3.3862416510683606]\n",
      "[167.0, 33.333333333333336, 1.93, 0.5, 1.04, 2.5, 4, 2.0717199733902145]\n",
      "[182.0, 10.277777777777777, 0.16, 0.65, 0.8, 2.5, 4, 1.1114689551059236]\n",
      "[185.0, 28.61111111111111, 3.19, 0.65, 1.04, 2.5, 4, 0.9626338953471216]\n",
      "[192.0, 31.944444444444443, 4.0, 0.5, 0.83, 2.5, 4, 2.173635828328677]\n",
      "[193.0, 20.27777777777778, 4.0, 0.56, 1.22, 2.5, 4, 1.3151664582995133]\n",
      "[195.0, 16.11111111111111, 2.44, 0.92, 0.89, 2.5, 4, 3.7287480523077914]\n",
      "[204.0, 33.333333333333336, 4.0, 1.16, 0.8, 2.5, 4, 1.1628012249631032]\n",
      "[207.0, 16.11111111111111, 4.0, 0.62, 1.64, 2.37, 4, 0.7944981335774575]\n",
      "[217.0, 16.944444444444443, 4.0, 0.53, 0.8, 2.5, 4, 1.6163382116377858]\n",
      "[218.0, 16.11111111111111, 0.61, 1.04, 0.8, 2.5, 4, 2.6997031993784817]\n",
      "[235.0, 21.11111111111111, 1.57, 1.43, 1.25, 1.71, 4, 0.6069789991957685]\n",
      "[236.0, 23.61111111111111, 4.0, 1.07, 0.8, 2.5, 4, 2.8514293454647768]\n",
      "[239.0, 33.333333333333336, 4.0, 0.68, 1.19, 1.5, 4, 0.874118287611606]\n",
      "[241.0, 16.11111111111111, 4.0, 0.83, 2.27, 1.71, 4, 3.4553075231427117]\n",
      "[243.0, 20.27777777777778, 4.0, 0.95, 0.95, 2.5, 4, 1.483668615446112]\n",
      "[244.0, 22.77777777777778, 1.93, 1.46, 1.55, 1.71, 4, 0.6066903328148214]\n",
      "[252.0, 22.77777777777778, 1.9900000000000002, 0.56, 0.86, 2.5, 4, 0.8492766064659013]\n",
      "[253.0, 21.944444444444443, 0.73, 0.86, 2.5, 2.5, 4, 0.9614506752647476]\n",
      "[255.0, 13.61111111111111, 0.37, 0.71, 2.12, 2.5, 4, 1.0179699897377028]\n",
      "[256.0, 33.333333333333336, 4.0, 1.46, 1.76, 2.5, 4, 3.888176442819341]\n",
      "[261.0, 16.11111111111111, 1.21, 0.74, 1.46, 2.5, 4, 1.4578060405932594]\n",
      "[265.0, 12.777777777777777, 0.19, 0.83, 0.95, 1.86, 4, 1.9917259048099738]\n",
      "[288.0, 17.77777777777778, 2.92, 0.68, 1.64, 2.5, 4, 0.769377335567831]\n",
      "[289.0, 26.11111111111111, 4.0, 0.56, 2.5, 1.5, 4, 2.153600328643644]\n",
      "[295.0, 33.333333333333336, 3.55, 0.5, 1.16, 2.49, 4, 1.117423682408131]\n",
      "[297.0, 29.444444444444443, 4.0, 0.65, 0.83, 2.5, 4, 1.030739032170587]\n",
      "[298.0, 30.27777777777778, 4.0, 0.77, 2.5, 1.5, 4, 1.6250697046095648]\n",
      "[305.0, 33.333333333333336, 4.0, 0.68, 1.25, 2.5, 4, 1.2938478890161345]\n",
      "[308.0, 14.444444444444445, 4.0, 0.59, 0.83, 2.5, 4, 1.4612630349018867]\n",
      "[309.0, 33.333333333333336, 4.0, 0.56, 0.8, 2.5, 4, 1.3987009372655024]\n",
      "[310.0, 19.444444444444443, 3.1, 0.74, 0.8, 2.49, 4, 3.4251234656501546]\n",
      "[318.0, 16.944444444444443, 1.84, 0.53, 0.89, 2.5, 4, 1.3531633879448592]\n",
      "[331.0, 16.11111111111111, 1.12, 0.77, 0.86, 2.5, 4, 0.9606928729256505]\n",
      "[336.0, 31.944444444444443, 0.55, 0.62, 0.86, 2.5, 4, 0.7806449841323222]\n",
      "[346.0, 17.77777777777778, 1.63, 0.68, 1.97, 2.04, 4, 1.9467132375089176]\n",
      "[348.0, 13.61111111111111, 0.37, 1.07, 1.07, 2.5, 4, 0.5846795214890694]\n",
      "[351.0, 15.277777777777777, 1.33, 0.5, 0.89, 2.5, 4, 1.3204745262855866]\n",
      "[352.0, 30.27777777777778, 0.64, 0.92, 1.46, 1.53, 4, 1.203997466259563]\n",
      "[353.0, 16.11111111111111, 1.75, 0.62, 1.58, 2.5, 4, 1.7264673851342618]\n",
      "[361.0, 13.61111111111111, 1.57, 0.53, 1.07, 1.65, 4, 1.0733097551437731]\n",
      "[362.0, 13.61111111111111, 0.64, 0.95, 1.88, 2.5, 4, 0.6923627225526842]\n",
      "[367.0, 16.11111111111111, 0.34, 0.65, 0.89, 2.5, 4, 1.2079618587233634]\n",
      "[368.0, 16.11111111111111, 4.0, 0.56, 1.16, 2.5, 4, 0.6544031366957108]\n",
      "[376.0, 15.277777777777777, 0.04, 0.74, 0.83, 2.4, 4, 1.7642422255632826]\n",
      "[377.0, 33.333333333333336, 4.0, 0.83, 2.5, 2.5, 4, 1.0984299384245901]\n",
      "[378.0, 18.61111111111111, 0.07, 1.13, 2.27, 2.46, 4, 1.0517390584336617]\n",
      "[381.0, 16.944444444444443, 0.52, 0.86, 2.3, 1.62, 4, 0.9383574122086369]\n",
      "[382.0, 11.944444444444445, 0.52, 0.89, 1.49, 1.59, 4, 1.2671156066962044]\n",
      "[391.0, 12.777777777777777, 4.0, 0.59, 1.64, 2.43, 4, 1.4730158289929545]\n",
      "[396.0, 33.333333333333336, 4.0, 0.8, 2.27, 2.01, 4, 0.8589550889994062]\n",
      "[398.0, 13.61111111111111, 1.27, 0.62, 1.13, 2.5, 4, 0.858489641315872]\n",
      "[399.0, 14.444444444444445, 4.0, 0.65, 0.8, 2.49, 4, 1.9606949464995798]\n",
      "[400.0, 11.11111111111111, 2.71, 0.62, 1.97, 2.5, 4, 0.5992196434196067]\n",
      "[403.0, 20.27777777777778, 4.0, 1.01, 0.8, 2.13, 4, 0.6235044950773894]\n",
      "[411.0, 15.277777777777777, 3.34, 0.56, 1.13, 1.5, 4, 1.8508885069982532]\n",
      "[413.0, 33.333333333333336, 4.0, 0.95, 2.5, 2.4, 4, 2.1921929851965696]\n",
      "[419.0, 31.944444444444443, 1.9, 1.43, 2.5, 1.53, 4, 0.6381887352805465]\n",
      "[423.0, 15.277777777777777, 0.34, 0.98, 2.5, 1.53, 4, 2.310510983021144]\n",
      "[425.0, 12.777777777777777, 1.36, 0.95, 2.5, 2.5, 4, 2.5945309009313995]\n",
      "[438.0, 33.333333333333336, 4.0, 0.53, 2.42, 1.5, 4, 1.0871707649911253]\n",
      "[439.0, 27.77777777777778, 3.91, 0.59, 0.8, 2.5, 4, 1.7837158796136627]\n",
      "[460.0, 30.27777777777778, 4.0, 0.65, 0.8, 2.5, 4, 1.2546164406152096]\n",
      "[461.0, 15.277777777777777, 1.9, 0.5, 0.92, 2.5, 4, 1.35794811155922]\n",
      "[462.0, 31.944444444444443, 2.35, 0.89, 2.5, 1.59, 4, 1.3013967951960197]\n",
      "[464.0, 14.444444444444445, 0.76, 0.59, 1.28, 2.5, 4, 1.695311237903824]\n",
      "[497.0, 33.333333333333336, 4.0, 1.04, 1.13, 2.5, 4, 1.3031431584176874]\n",
      "[498.0, 15.277777777777777, 2.92, 0.5, 0.98, 2.5, 4, 0.9355261273507817]\n",
      "[504.0, 33.333333333333336, 2.56, 0.5, 2.3, 2.5, 4, 1.4361515257124013]\n",
      "[506.0, 33.333333333333336, 1.09, 0.89, 2.5, 1.71, 4, 2.0961427084693716]\n",
      "[510.0, 33.333333333333336, 4.0, 0.59, 0.8, 2.5, 4, 1.8723563283823035]\n",
      "[511.0, 33.333333333333336, 3.37, 0.5, 0.8, 2.5, 4, 1.762839594325098]\n",
      "[515.0, 13.61111111111111, 4.0, 0.53, 0.83, 2.5, 4, 1.8355148075563803]\n",
      "[519.0, 33.333333333333336, 1.1800000000000002, 0.71, 2.5, 2.1, 4, 2.6148390745677914]\n",
      "[523.0, 33.333333333333336, 4.0, 0.53, 0.92, 1.53, 4, 1.6296333787979411]\n",
      "[524.0, 33.333333333333336, 0.55, 0.68, 0.98, 2.5, 4, 1.4823237861152334]\n",
      "[525.0, 18.61111111111111, 1.27, 0.5, 0.92, 2.5, 4, 1.087686392417461]\n",
      "[528.0, 33.333333333333336, 1.1800000000000002, 0.56, 0.8, 2.5, 4, 1.5768409782279753]\n",
      "[529.0, 17.77777777777778, 0.16, 0.5, 1.25, 2.22, 4, 0.70125250989142]\n",
      "[532.0, 33.333333333333336, 1.09, 0.65, 1.07, 2.5, 4, 1.4121744713850766]\n",
      "[533.0, 18.61111111111111, 0.07, 0.5, 0.8, 2.5, 4, 1.188134976896385]\n",
      "[536.0, 13.61111111111111, 4.0, 0.53, 1.07, 1.68, 4, 1.7385988325624884]\n",
      "[537.0, 33.333333333333336, 3.4, 0.59, 0.92, 2.5, 4, 1.3413554581581628]\n",
      "[541.0, 33.333333333333336, 1.66, 0.56, 1.04, 2.5, 4, 1.5750696335269332]\n",
      "[543.0, 31.944444444444443, 4.0, 1.28, 2.39, 2.5, 4, 1.0191455416233481]\n",
      "[545.0, 13.61111111111111, 1.87, 0.53, 2.5, 2.5, 4, 1.169643020139712]\n",
      "[551.0, 33.333333333333336, 1.93, 0.65, 2.5, 1.53, 4, 1.2747279208072935]\n",
      "[553.0, 33.333333333333336, 4.0, 0.62, 0.8, 2.5, 4, 1.4147953635889365]\n",
      "[554.0, 33.333333333333336, 1.66, 1.13, 0.8, 2.07, 4, 0.8360724187907502]\n",
      "[559.0, 17.77777777777778, 4.0, 0.77, 1.34, 2.5, 4, 0.9016676654925253]\n",
      "[563.0, 33.333333333333336, 4.0, 0.56, 0.98, 1.53, 4, 0.8188044798304153]\n",
      "[570.0, 29.444444444444443, 0.37, 0.86, 0.8, 2.5, 4, 0.6559600655221578]\n",
      "[571.0, 33.333333333333336, 4.0, 0.65, 2.5, 2.5, 4, 0.42845391857782456]\n",
      "[575.0, 33.333333333333336, 0.13, 1.16, 2.5, 1.74, 4, 0.7878955279816813]\n",
      "[578.0, 33.333333333333336, 4.0, 0.74, 0.8, 2.5, 4, 0.8790656375746724]\n",
      "[582.0, 9.444444444444445, 1.06, 0.59, 1.16, 2.5, 4, 1.1965894676457651]\n",
      "[591.0, 33.333333333333336, 4.0, 0.68, 0.83, 2.5, 4, 0.9923910449345554]\n",
      "[595.0, 15.277777777777777, 2.5, 0.68, 2.48, 2.5, 4, 0.9654703339566957]\n",
      "[597.0, 33.333333333333336, 4.0, 1.43, 0.8, 2.5, 4, 1.059996841805153]\n",
      "[603.0, 14.444444444444445, 0.91, 0.59, 0.92, 2.5, 4, 0.5552554302482761]\n",
      "[605.0, 14.444444444444445, 4.0, 1.01, 0.83, 1.68, 4, 1.4231505779660971]\n",
      "[607.0, 33.333333333333336, 2.83, 0.5, 0.8, 2.5, 4, 2.0054526170815086]\n",
      "[611.0, 33.333333333333336, 2.2, 0.62, 2.5, 1.68, 4, 1.5377975541946933]\n",
      "[614.0, 33.333333333333336, 3.82, 0.71, 2.42, 2.5, 4, 1.1286611811734137]\n",
      "[616.0, 33.333333333333336, 4.0, 0.98, 2.5, 2.5, 4, 1.0556404668307908]\n",
      "[619.0, 29.444444444444443, 1.09, 0.71, 0.83, 2.34, 4, 0.8697816425987627]\n",
      "[620.0, 15.277777777777777, 1.54, 0.5, 0.89, 1.68, 4, 0.9129341853914679]\n",
      "[621.0, 16.944444444444443, 2.5, 0.5, 2.09, 2.5, 4, 0.9904152415357474]\n",
      "[629.0, 12.777777777777777, 1.93, 0.56, 1.94, 2.25, 4, 0.768811171342227]\n",
      "[630.0, 33.333333333333336, 4.0, 0.83, 1.97, 2.5, 4, 2.7507687997046104]\n",
      "[636.0, 19.444444444444443, 4.0, 0.53, 0.8, 2.5, 4, 2.435655750292767]\n",
      "[642.0, 33.333333333333336, 4.0, 0.83, 0.95, 2.5, 4, 0.9860524186873971]\n",
      "[643.0, 21.944444444444443, 4.0, 0.86, 0.8, 2.5, 4, 1.3078898949599136]\n",
      "[646.0, 33.333333333333336, 4.0, 1.04, 1.16, 2.5, 4, 1.3344841651081691]\n",
      "[647.0, 12.777777777777777, 0.91, 0.8, 1.49, 2.5, 4, 1.1187065085396886]\n",
      "[656.0, 21.11111111111111, 4.0, 0.5, 0.83, 2.5, 4, 1.0414699502648732]\n",
      "[657.0, 33.333333333333336, 4.0, 0.5, 0.83, 1.53, 4, 0.9217213550862737]\n",
      "[659.0, 15.277777777777777, 0.37, 0.65, 0.83, 2.5, 4, 0.5106911715006515]\n",
      "[666.0, 16.11111111111111, 0.07, 0.71, 2.5, 1.83, 4, 1.2558400876819524]\n",
      "[667.0, 17.77777777777778, 1.1800000000000002, 0.92, 1.04, 2.5, 4, 0.5340969557411384]\n",
      "[676.0, 16.944444444444443, 2.14, 0.53, 0.83, 2.34, 4, 0.8363730619502208]\n",
      "[685.0, 20.27777777777778, 0.28, 0.92, 2.5, 2.19, 4, 1.2486717306796222]\n",
      "[687.0, 33.333333333333336, 4.0, 0.68, 1.34, 2.5, 4, 1.7153108123876861]\n",
      "[692.0, 16.944444444444443, 0.16, 0.98, 2.12, 1.56, 4, 1.4963896495987608]\n",
      "[697.0, 33.333333333333336, 3.9700000000000006, 0.74, 1.73, 1.5, 4, 3.077669848511851]\n",
      "[698.0, 28.61111111111111, 4.0, 0.77, 1.34, 2.5, 4, 1.0199879046845421]\n",
      "[699.0, 16.944444444444443, 3.34, 0.77, 2.24, 1.59, 4, 1.3562061953017217]\n",
      "[710.0, 14.444444444444445, 1.2400000000000002, 1.1, 2.45, 2.5, 4, 1.5891135854019292]\n",
      "[711.0, 16.11111111111111, 4.0, 0.8, 2.3, 2.5, 4, 1.7007967074784176]\n",
      "[712.0, 17.77777777777778, 0.58, 0.98, 0.83, 1.95, 4, 2.079641730524058]\n",
      "[724.0, 33.333333333333336, 0.73, 1.1, 2.15, 2.4, 4, 1.4413624479378742]\n",
      "[734.0, 25.27777777777778, 4.0, 0.83, 0.8, 2.5, 4, 0.8030661190009436]\n",
      "[740.0, 17.77777777777778, 0.67, 0.77, 0.95, 1.56, 4, 1.247559398693052]\n",
      "[741.0, 16.11111111111111, 0.13, 0.65, 1.37, 2.5, 4, 0.87490292408813]\n",
      "[742.0, 33.333333333333336, 1.15, 0.77, 2.5, 2.5, 4, 0.7728045698759535]\n",
      "[743.0, 13.61111111111111, 1.81, 0.53, 1.07, 2.31, 4, 1.1676750285710127]\n",
      "[744.0, 16.944444444444443, 0.1, 0.83, 0.86, 1.56, 4, 1.0979755738007642]\n",
      "[748.0, 16.944444444444443, 0.13, 0.89, 2.27, 2.25, 4, 0.8013760923293759]\n",
      "[753.0, 33.333333333333336, 3.04, 0.59, 2.3, 2.46, 4, 0.8246674214191345]\n",
      "[757.0, 33.333333333333336, 4.0, 0.56, 1.31, 1.5, 4, 0.9426317752710186]\n",
      "[767.0, 15.277777777777777, 0.43, 0.8, 0.92, 2.5, 4, 2.390283608171239]\n",
      "[770.0, 14.444444444444445, 1.27, 0.5, 2.09, 1.86, 4, 1.2856274342727079]\n",
      "[774.0, 31.11111111111111, 4.0, 0.59, 1.04, 1.5, 4, 1.1240171304307067]\n",
      "[778.0, 33.333333333333336, 0.43, 0.77, 0.83, 2.5, 4, 0.5143184926470264]\n",
      "[783.0, 16.944444444444443, 2.83, 0.98, 0.98, 2.5, 4, 2.0870956585095355]\n",
      "[785.0, 25.27777777777778, 4.0, 0.59, 0.86, 2.43, 4, 2.3803254488146597]\n",
      "[787.0, 18.61111111111111, 2.47, 0.71, 2.09, 2.5, 4, 0.9589939044012855]\n",
      "[793.0, 33.333333333333336, 4.0, 0.62, 0.8, 2.5, 4, 0.9493527260488244]\n",
      "[797.0, 33.333333333333336, 4.0, 0.77, 0.92, 1.74, 4, 1.5946145079784149]\n",
      "[799.0, 33.333333333333336, 2.08, 0.86, 2.5, 2.5, 4, 0.6753503291827309]\n",
      "[800.0, 33.333333333333336, 4.0, 0.89, 2.18, 2.5, 4, 1.2051123018379428]\n",
      "[802.0, 15.277777777777777, 0.1, 1.1, 2.06, 1.68, 4, 2.052440524780882]\n",
      "[808.0, 33.333333333333336, 4.0, 0.77, 0.8, 1.5, 4, 0.8567345794699246]\n",
      "[809.0, 33.333333333333336, 3.46, 0.74, 1.13, 2.5, 4, 0.7109423244601452]\n",
      "[810.0, 15.277777777777777, 0.43, 0.8, 1.55, 1.98, 4, 0.6897516077224229]\n",
      "[821.0, 33.333333333333336, 3.9700000000000006, 0.68, 2.5, 2.5, 4, 0.8877371281216277]\n",
      "[827.0, 18.61111111111111, 1.15, 0.95, 2.5, 1.5, 4, 1.2489136391007922]\n",
      "[830.0, 24.444444444444443, 4.0, 0.8, 0.8, 2.5, 4, 0.9624290268527901]\n",
      "[833.0, 30.27777777777778, 4.0, 0.95, 1.04, 2.5, 4, 1.0070474823439834]\n",
      "[840.0, 33.333333333333336, 0.43, 1.07, 2.5, 1.77, 4, 0.7878953206376813]\n",
      "[841.0, 33.333333333333336, 4.0, 0.95, 0.8, 2.5, 4, 0.5735599318324338]\n",
      "[843.0, 22.77777777777778, 2.35, 0.65, 0.8, 2.07, 4, 0.6864118198668502]\n",
      "[847.0, 17.77777777777778, 0.07, 1.04, 1.82, 1.56, 4, 1.3024822309884552]\n",
      "[852.0, 33.333333333333336, 1.54, 0.8, 2.39, 1.5, 4, 3.0403406656887952]\n",
      "[856.0, 19.444444444444443, 0.1, 1.16, 2.12, 2.5, 4, 0.7919434569027344]\n",
      "[859.0, 16.11111111111111, 4.0, 0.5, 1.91, 2.5, 4, 1.7663553347642165]\n",
      "[861.0, 33.333333333333336, 4.0, 1.25, 0.86, 1.53, 4, 0.9280176578996927]\n",
      "[864.0, 33.333333333333336, 1.87, 0.71, 2.5, 2.43, 4, 0.8682981041097351]\n",
      "[865.0, 33.333333333333336, 1.93, 0.83, 2.5, 1.53, 4, 1.6909147154576227]\n",
      "[870.0, 14.444444444444445, 0.61, 0.68, 1.85, 2.5, 4, 0.9159640441871245]\n",
      "[871.0, 33.333333333333336, 1.0000000000000002, 1.1, 2.5, 1.59, 4, 0.7080369247949083]\n",
      "[873.0, 33.333333333333336, 0.91, 1.19, 2.5, 1.68, 4, 1.3238814294796284]\n",
      "[874.0, 14.444444444444445, 2.77, 0.5, 2.27, 2.13, 4, 1.7204975330159749]\n",
      "[875.0, 30.27777777777778, 3.25, 1.04, 0.83, 2.1, 4, 1.9920726227104666]\n",
      "[876.0, 26.11111111111111, 4.0, 0.86, 0.8, 2.5, 4, 1.7022769467303425]\n",
      "[883.0, 16.944444444444443, 0.52, 0.71, 0.83, 2.5, 4, 1.0899943655873998]\n",
      "[884.0, 24.444444444444443, 4.0, 0.8, 0.98, 1.53, 4, 0.4902880812901379]\n",
      "[885.0, 15.277777777777777, 1.39, 0.68, 0.98, 2.07, 4, 1.0221969117968919]\n",
      "[887.0, 18.61111111111111, 3.79, 0.59, 0.8, 2.43, 4, 1.0201903235587593]\n",
      "[889.0, 33.333333333333336, 4.0, 0.98, 2.5, 1.5, 4, 2.5778008334507874]\n",
      "[891.0, 15.277777777777777, 0.1, 0.98, 0.8, 2.5, 4, 2.0925018313816186]\n",
      "[894.0, 14.444444444444445, 1.9, 0.5, 0.86, 2.5, 4, 2.6424841032343003]\n",
      "[911.0, 15.277777777777777, 4.0, 0.53, 0.83, 2.5, 4, 1.0524228786738696]\n",
      "[912.0, 13.61111111111111, 1.21, 0.83, 0.89, 1.77, 4, 1.1114495068731722]\n",
      "[919.0, 19.444444444444443, 1.21, 0.65, 1.43, 2.4, 4, 0.8974620755921523]\n",
      "[921.0, 16.11111111111111, 0.25, 0.53, 2.12, 2.5, 4, 1.8896682399042888]\n",
      "[923.0, 15.277777777777777, 0.76, 0.62, 0.8, 2.5, 4, 1.2979131564973962]\n",
      "[929.0, 13.61111111111111, 2.44, 0.77, 1.46, 2.28, 4, 0.8466046839046627]\n",
      "[932.0, 16.944444444444443, 1.12, 0.83, 2.21, 2.07, 4, 1.4033919263852812]\n",
      "[933.0, 32.77777777777778, 4.0, 0.65, 0.8, 2.5, 4, 1.0089797083923195]\n",
      "[936.0, 11.11111111111111, 1.9900000000000002, 0.86, 1.16, 2.04, 4, 1.4136995331851423]\n",
      "[938.0, 12.777777777777777, 4.0, 0.65, 0.86, 2.5, 4, 2.252502648608215]\n",
      "[942.0, 15.277777777777777, 3.37, 0.5, 0.83, 2.07, 4, 0.7480183349853243]\n",
      "[943.0, 28.61111111111111, 4.0, 0.98, 0.86, 1.89, 4, 0.3495829382432164]\n",
      "[946.0, 33.333333333333336, 3.76, 1.16, 2.42, 1.53, 4, 2.402836469275294]\n",
      "[953.0, 15.277777777777777, 1.15, 1.01, 0.83, 1.53, 4, 1.0016574934239169]\n",
      "[955.0, 12.777777777777777, 1.9, 0.59, 1.01, 2.01, 4, 1.7044055386434547]\n",
      "[972.0, 26.944444444444443, 4.0, 0.92, 0.83, 2.5, 4, 2.4465223422002533]\n",
      "[982.0, 30.27777777777778, 4.0, 1.25, 0.8, 2.5, 4, 1.3086685385468433]\n",
      "[999.0, 15.277777777777777, 0.91, 0.5, 2.03, 2.5, 4, 2.0542929872097013]\n",
      "[1000.0, 23.61111111111111, 4.0, 0.83, 0.86, 2.5, 4, 0.891917288991646]\n",
      "[1001.0, 17.77777777777778, 0.82, 0.89, 0.8, 1.59, 4, 1.1211525673884148]\n",
      "[1012.0, 16.11111111111111, 0.73, 0.95, 2.5, 2.13, 4, 1.8848188113072584]\n",
      "[1024.0, 33.333333333333336, 4.0, 0.74, 0.95, 2.5, 4, 1.2235828004384444]\n",
      "[1048.0, 19.444444444444443, 4.0, 0.74, 0.86, 2.5, 4, 0.7520670895143898]\n",
      "[1050.0, 33.333333333333336, 1.57, 0.98, 0.8, 2.5, 4, 0.9050104914402741]\n",
      "[1061.0, 11.11111111111111, 1.33, 1.19, 0.86, 2.07, 4, 0.36469901945980787]\n",
      "[1096.0, 14.444444444444445, 0.13, 0.59, 2.5, 2.22, 4, 1.0877695256085311]\n",
      "[1109.0, 33.333333333333336, 4.0, 0.92, 1.25, 1.56, 4, 2.0261270898579915]\n",
      "[1110.0, 16.11111111111111, 2.68, 0.59, 0.83, 2.43, 4, 1.2256307213581024]\n",
      "[1115.0, 33.333333333333336, 4.0, 0.98, 1.73, 2.5, 4, 2.104091312907875]\n",
      "[1127.0, 15.277777777777777, 2.08, 0.59, 1.4, 2.5, 4, 1.2684226469301565]\n",
      "[1130.0, 11.11111111111111, 0.91, 1.07, 2.5, 1.77, 4, 2.4391628699034116]\n",
      "[1146.0, 33.333333333333336, 4.0, 0.86, 0.89, 2.5, 4, 1.3838274663476409]\n",
      "[1147.0, 21.944444444444443, 3.58, 0.8, 0.83, 2.5, 4, 1.335258159581954]\n",
      "[1157.0, 13.61111111111111, 0.49, 0.98, 1.88, 2.5, 4, 1.6197985564351287]\n",
      "[1158.0, 16.944444444444443, 0.31, 0.92, 1.22, 2.07, 4, 0.9264048250520747]\n",
      "[1159.0, 33.333333333333336, 4.0, 0.86, 0.83, 1.62, 4, 2.203574958570877]\n",
      "[1160.0, 33.333333333333336, 3.91, 1.13, 1.22, 2.5, 4, 0.8108816614470411]\n",
      "[1161.0, 33.333333333333336, 4.0, 1.22, 0.98, 2.5, 4, 2.405671899575544]\n",
      "[1166.0, 14.444444444444445, 4.0, 0.71, 2.42, 2.5, 4, 1.6281011016195224]\n",
      "[1167.0, 31.11111111111111, 4.0, 1.04, 0.86, 1.53, 4, 2.2524246524915044]\n"
     ]
    }
   ],
   "source": [
    "## IDM parameter estimation\n",
    "TEST_NUM = len(test_scenes)\n",
    "DEBUG = False\n",
    "\n",
    "get_idm_param = lambda param_set: {\n",
    "                        \"v0\": param_set[0] / 3.6,\n",
    "                        \"s0\": param_set[1] / 100,\n",
    "                        \"T\": param_set[2] / 100,\n",
    "                        \"a\": param_set[3] / 100,\n",
    "                        \"b\": param_set[4] / 100,\n",
    "                        \"sigma\": 4\n",
    "                        }\n",
    "\n",
    "\n",
    "param_dataset = []\n",
    "\n",
    "for i in range(TEST_NUM):\n",
    "\n",
    "    # i = random.randint(0, TEST_NUM - 1)\n",
    "\n",
    "    test_scene = test_scenes[i]\n",
    "    size = sizes[i]\n",
    "\n",
    "    fitness = outer_fitness(test_scene, size, IDM, get_idm_param)\n",
    "\n",
    "    ga = GA(func=fitness, n_dim=5, size_pop=50, max_iter=100, prob_mut=0.1, lb=[1, 1, 50, 80, 150], ub=[120, 400, 500, 250, 250], precision=3)\n",
    "    result = ga.run()\n",
    "\n",
    "    print([test_scene[0, 0]] + list(get_idm_param(result[0]).values()) + [result[1].item()])\n",
    "    param_dataset.append([test_scene[0, 0]] + list(get_idm_param(result[0]).values()) + [result[1].item()])\n",
    "\n",
    "    # Y_history = pd.DataFrame(ga.all_history_Y)\n",
    "    # fig, ax = plt.subplots(2, 1)\n",
    "    # ax[0].plot(Y_history.index, Y_history.values, '.', color='red')\n",
    "    # Y_history.min(axis=1).cummin().plot(kind='line')\n",
    "    # plt.show()\n",
    "\n",
    "\n",
    "    # car_front = Car(size[0], test_scene[:, 1], test_scene[:, 2], test_scene[:, 3])\n",
    "\n",
    "    # car_follow = Car(size[1], [test_scene[0, 4]], [test_scene[0, 5]], [test_scene[0, 6]])\n",
    "\n",
    "    # car_follow_real = Car(size[1], [test_scene[:, 4]], [test_scene[:, 5]], [test_scene[:, 6]])\n",
    "\n",
    "    # idm = IDM(get_idm_param(result[0]))\n",
    "\n",
    "    # timesteps = test_scene[:, 7]\n",
    "\n",
    "    # idm.update(car_front, car_follow, timesteps)\n",
    "\n",
    "\n",
    "    # # plt.plot(car_front.xs, label=\"lead vehicle\")\n",
    "    # # plt.plot(car_follow.xs, label=\"estimated follow vehicle\")\n",
    "    # # plt.plot(car_follow_real.xs[0], label=\"actual follow vehicle\")\n",
    "    # # plt.legend()\n",
    "    # # plt.show()\n",
    "\n",
    "    # # plt.plot(car_follow.vs, label=\"estimated follow vehicle\")\n",
    "    # # plt.plot(car_follow_real.vs[0], label=\"actual follow vehicle\")\n",
    "    # # plt.legend()\n",
    "    # # plt.show()\n",
    "\n",
    "    # # plt.plot(car_follow.a_s, label=\"estimated follow vehicle\")\n",
    "    # # print(car_follow.a_s)\n",
    "    # # plt.plot(car_follow_real.a_s[0], label=\"actual follow vehicle\")\n",
    "    # # plt.legend()\n",
    "    # # plt.show()"
   ]
  },
  {
   "cell_type": "code",
   "execution_count": null,
   "metadata": {},
   "outputs": [],
   "source": [
    "## Gipps parameter estimation"
   ]
  },
  {
   "cell_type": "code",
   "execution_count": null,
   "metadata": {},
   "outputs": [],
   "source": [
    "param_df = pd.DataFrame(param_dataset)\n",
    "\n",
    "param_df.to_csv(\"parameters.csv\")"
   ]
  },
  {
   "cell_type": "markdown",
   "metadata": {},
   "source": [
    "## 4.3 Pros and Cons"
   ]
  },
  {
   "cell_type": "markdown",
   "metadata": {},
   "source": [
    "# 5. Limitations and further research"
   ]
  },
  {
   "cell_type": "markdown",
   "metadata": {},
   "source": [
    "# References"
   ]
  },
  {
   "cell_type": "markdown",
   "metadata": {},
   "source": [
    "1. [Large Car-following Data Based on Lyft level-5 Open Dataset: Following Autonomous Vehicles vs. Human-driven Vehicles. Guopeng Li, Yiru Jiao, Victor L. Knoop, Simeon C. Calvert, and J.W.C. van Lint](https://arxiv.org/pdf/2305.18921.pdf)\n"
   ]
  }
 ],
 "metadata": {
  "kernelspec": {
   "display_name": "Python 3",
   "language": "python",
   "name": "python3"
  },
  "language_info": {
   "codemirror_mode": {
    "name": "ipython",
    "version": 3
   },
   "file_extension": ".py",
   "mimetype": "text/x-python",
   "name": "python",
   "nbconvert_exporter": "python",
   "pygments_lexer": "ipython3",
   "version": "3.11.5"
  },
  "orig_nbformat": 4,
  "vscode": {
   "interpreter": {
    "hash": "31f2aee4e71d21fbe5cf8b01ff0e069b9275f58929596ceb00d14d90e3e16cd6"
   }
  }
 },
 "nbformat": 4,
 "nbformat_minor": 2
}
