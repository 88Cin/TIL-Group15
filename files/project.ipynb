{
 "cells": [
  {
   "attachments": {},
   "cell_type": "markdown",
   "metadata": {},
   "source": [
    "# Project Group - 15\n",
    "Members: \n",
    "\n",
    "         Guoheng Li 5939259\n",
    "\n",
    "         Junpeng Li 5921856\n",
    "\n",
    "         Haosen Luo 5936195\n",
    "         \n",
    "         Chenwei Peng 591838\n"
   ]
  },
  {
   "attachments": {},
   "cell_type": "markdown",
   "metadata": {},
   "source": [
    "# Research Objective\n",
    "\n",
    "## Objective\n",
    "\n",
    "Based on its importance, a variety of car following models are put forward trying to model such phenomenon. However, different models are based on different assumptions, formulations and methodologies, which entails real-world data to test their limitations and advantages, for instance, some of them can't account for some specific car following patterns. Nowadays, with preprocessed real-world car following data, we are able to calibrate the car following phenomana better and more precisely.\n",
    "Therefore, in this project the objectives are:\n",
    "\n",
    "1. Are there correlations among some car following variables(e.g.headway, follower's velocity and acceleration)? How are the IDM and Gipps models formulated?\n",
    "\n",
    "2. Can these models be implemented? How to estimate the parameters? Are there some pros and cons between these two models? How can we possibly further improve these two models?\n"
   ]
  },
  {
   "cell_type": "markdown",
   "metadata": {},
   "source": [
    "1. 0值为什么出现这么多\n",
    "2. 如何可视化体现不同模式的划分\n",
    "3. 速度和理想速度的比值"
   ]
  },
  {
   "cell_type": "markdown",
   "metadata": {},
   "source": [
    "# Contribution Statement\n",
    "\n",
    "Work in Process\n",
    "\n",
    "*Be specific. Some of the tasks can be coding (expect everyone to do this), background research, conceptualisation, visualisation, data analysis, data modelling*"
   ]
  },
  {
   "cell_type": "markdown",
   "metadata": {},
   "source": [
    "**Author 1**: Guoheng Li\n",
    "\n",
    "**Author 2**: Junpeng Li\n",
    "\n",
    "**Author 3**: Chenwei Peng\n",
    "\n",
    "**Author 4**: Haosen Luo"
   ]
  },
  {
   "cell_type": "markdown",
   "metadata": {},
   "source": [
    "\n",
    "# 1. Introduction\n",
    "\n",
    "Researching car following models is critical in transportation engineering and urban planning. These models provide insights essential for congestion management, infrastructure planning, environmental impact assessment, and safety improvement. By understanding traffic dynamics, decision-makers can optimize traffic flow, identify congestion-prone areas, and design efficient road networks. This leads to reduced emissions, energy conservation, and increased road safety. Traffic flow models also aid in public transportation optimization, enhancing services for commuters. They support data-driven decision-making and offer economic benefits by improving productivity and reducing fuel consumption. In essence, traffic flow models are invaluable tools that inform decisions, ultimately shaping sustainable urban development and improving overall quality of life."
   ]
  },
  {
   "cell_type": "markdown",
   "metadata": {},
   "source": [
    "# 2. Data\n",
    "\n",
    "## 2.1 Data Used\n",
    "\n",
    "In this project, we used car-following datasets provided in [this paper](https://arxiv.org/pdf/2305.18921.pdf), which is originally collected by autonomous vehicles (AVs) from the open Lyft level-5 dataset to study car-following behavior in mixed traffic flow. The dataset consisted of over 29,000 HV-following-AV (H-A) and 42,000 HV-following-HV (H-H) car-following segments. The dataset includes over 1000 hours of perception and motion data collected over a 4-month period from urban and suburban environments along a fixed route in Palo Alto, California. The dataset comprises approximately 170,000 scenes, with each scene spanning approximately 25 seconds. Each scene includes the movement states of perceived vehicles, cyclists, and pedestrians, as well as the position and orientation of the autonomous vehicle (AV). \n",
    "\n",
    "Then, data is processed using a data processing framework that involved several steps. First, CF pairs and their raw trajectories were selected from the unlabelled dataset based on certain rules. Then, the raw data quality was assessed through anomaly analysis. The next step involved enhancing the raw data. For AVs, missing segments were filled and smooth position and speed were estimated. For HVs, missing data around 0-speed points was filled using a jerk-minimization method. Finally, vehicle size processing was performed to split the enhanced dataset into two groups: H-A and H-H.\n",
    "\n",
    "The result of data processing was an enhanced dataset that had higher quality and covered diverse regimes for calibrating car-following models. The enhanced data showed a reduction in anomalies, particularly in abnormal jerk sign inversion. This processed dataset can be further used for investigating car-following behavior in mixed urban traffic and the impact of AVs on traffic.\n",
    "\n",
    "With diverse algorithms, we have obtained the data of the regime of each vehicle from an enhanced dataset. In the dataset of regime of each vehicle pairs, we have considered 7 regimes: \n",
    "  1. free acceleration (Fa)\n",
    "  2. free deceleration not caused by the leading vehicle (Fd)\n",
    "  3. cruising at a desired speed (C)\n",
    "  4. acceleration following a leading vehicle (A)\n",
    "  5. deceleration following a leading vehicle (D)\n",
    "  6. constant speed following (F)\n",
    "  7. standstill (S)\n",
    "\n",
    "The dataset also provides the time duration of each regime as well as the combination for each car-following case id which is for further analysis.\n",
    "\n",
    "**All the steps above are already done before dataset published, thus how to impletement these process is out of scope of our project, our project focuses on visualization, modelling and calibration on car following models, using the processed data**\n"
   ]
  },
  {
   "cell_type": "markdown",
   "metadata": {},
   "source": [
    "## 2.2 Data Preprocessing Pipeline\n",
    "\n",
    "### 2.2.1 data processing\n",
    "We will clean the data, reduce data noise, and improve the quality of the data, making it more suitable for subsequent analysis or modeling tasks.\n",
    "\n",
    "### 2.2.2 Data sorting\n",
    "We will classify the following 7 modes based on size, centroid, acceleration and velocity: free acceleration (Fa), free deceleration not caused by the leading vehicle (Fd), cruising at a desired speed (C), acceleration following a leading vehicle (A), deceleration following a leading vehicle (D), constant speed following (F), and standstill (S)."
   ]
  },
  {
   "cell_type": "markdown",
   "metadata": {},
   "source": [
    "## 3 Pipeline"
   ]
  },
  {
   "attachments": {},
   "cell_type": "markdown",
   "metadata": {},
   "source": [
    "### 3.2.1 data exploration and plotting\n",
    "In order to explore the relations between the given car following dataset and the common car following models, and to derive some inspirations on how these models are developed, we resort to data exploration methods to help analyzing. \n",
    "\n",
    "Here are several ways to perform calculations on data：\n",
    "- Headspace：The distance between the heading of the front car and the rear car.\n",
    "- Vehicle distance: The distance from the rear bumper of the front vehicle to the front of the rear vehicle.\n",
    "- Effect of size on distance：Effect of vehicle size on distance between vehicles.\n",
    "- Statistics: Variance / mean.\n",
    "- Analyze different regimes: Relationships between vehicle attributes.\n",
    "By analylising these \n",
    "\n",
    "### 3.2.2 Modelling\n",
    "We will apply the Intelligent Driver Model and Gipps Model to verify their applications on different regimes, and try analysing their behaviour patterns as well pros and cons. However, to do so there are some parameters left to be filled in. Therefore, we have to calibrate the parameters first objectively and comprehensively, i.e. we decided to calibrate the parameters by using algorithms to minimize the total car following trajectory loss, and apply them to different regimes due to the huge discrepancy among various patterns.\n",
    "\n",
    "\n",
    "![IMAGE](./images/image.png)"
   ]
  },
  {
   "cell_type": "markdown",
   "metadata": {},
   "source": [
    "# 4. Data Exploration"
   ]
  },
  {
   "cell_type": "code",
   "execution_count": 3,
   "metadata": {},
   "outputs": [],
   "source": [
    "# import dependent libraries\n",
    "\n",
    "import numpy as np\n",
    "import matplotlib.pyplot as plt\n",
    "import pandas as pd\n",
    "\n",
    "\n",
    "# DIRECTORIES\n",
    "PROJECT_FILE = \"D:\\DATA\\TIL6022\""
   ]
  },
  {
   "cell_type": "markdown",
   "metadata": {},
   "source": [
    "## 4.1 对数据进行描述\n",
    "\n",
    "### 4.1.1 相关系数图\n",
    "最intuitive的想法（不用分类）\n",
    "\n",
    "1. v和车头间距的关系 / a和车头间距的关系\n",
    "2. ...balabala\n",
    "\n",
    "### 4.1.2 直方图\n",
    "\n",
    "1. 速度，加速度，车头间距做频率分布直方图分析（对不同的regimes）\n",
    "\n",
    "- 为什么会出现那么多0?\n",
    "\n",
    "2. 车辆size的直方图\n",
    "\n",
    "### 4.1.3 饼图\n",
    "\n",
    "1. HH HA 分开探讨 不同regimes下的数量占比\n",
    "\n",
    "## 4.2 数据关系分析\n",
    "\n",
    "1. 为什么要划分ADF....这些模式： 通过直方图来反映各个量看看有没有区别\n",
    "\n",
    "2. IDM模型需要至少ADF的数据，那么IDM模型是怎么构建的，参数之间有什么关系（可以直接用ADF数据）:\n",
    "    - 车头间距和加速度的关系\n",
    "    - 速度和理想速度的比值（？）（分场景ADF+1 / ADF / ADF+2）的差距会对加速度有什么影响"
   ]
  },
  {
   "cell_type": "markdown",
   "metadata": {},
   "source": [
    "# 5. Models, Calibrations & Pros and Cons"
   ]
  },
  {
   "cell_type": "markdown",
   "metadata": {},
   "source": [
    "While there are many available models for car following, different kinds of models account for different behaviours. Based on the data exploration and the conclusion we made in the last part:\n",
    "- 1\n",
    "- 2\n",
    "- 3\n",
    "\n",
    "In recent studies, common car following models we are to discuss, are usually devided into 3 types.\n",
    "\n",
    "## 5.1 Models\n",
    "\n",
    "### 5.1.1 Desired Measures Models (Intelligent Driver Model)\n",
    "\n",
    "The model presumes that each driver has a desired velocity, headway, and the drivers try to minimize the gap between the actual value and the desired value, while constrained by a variety of conditions, for instance safety distances. Intelligent Driver Model(IDM) is catagorized in this catagorization:\n",
    "\n",
    "Drivers try to minimize the following distance, and minimize both the speed difference and desired headway as well. In IDM model:\n",
    "\n",
    "1. The influence factors include own speed $v$, the bumper-to-bumper gap $s$ to the lead vehicle, and the difference of the speed $\\Delta v = v - v_{\\text{lead}}$\n",
    "\n",
    "2. The model only outputs the acceleration $a$ on the following car.\n",
    "\n",
    "3. The model parameters are driving styles.\n"
   ]
  },
  {
   "cell_type": "markdown",
   "metadata": {},
   "source": [
    "The IDM model equations are fomulated as follows:\n",
    "$$\n",
    "\\begin{aligned}\n",
    "&\\frac{dv}{dt} = a\\left[1 - \\left(\\frac{v}{v_0}\\right)^\\sigma - \\left(\\frac{s^*(v, \\Delta v)}{s}\\right)^2 \\right]\\\\\n",
    "\n",
    "&s^*(v, \\Delta v) = s_0 + \\max\\left[0, \\left(vT+\\frac{v\\Delta v}{2 \\sqrt{ab}}\\right)\\right]\n",
    "\\end{aligned}\n",
    "$$\n",
    "\n",
    "\n"
   ]
  },
  {
   "cell_type": "markdown",
   "metadata": {},
   "source": [
    "where,\n",
    "- $\\frac{dv}{dt}$ is the acceleration the follower vehicle will achieve in the next timestep.\n",
    "- $a$ is the desired acceleration.\n",
    "- $b$ is the desired deceleration.\n",
    "- $v$ is the velocity of the follower in the current timestep.\n",
    "- $v_0$ is the desired velocity of the follower.\n",
    "- $s$ is the front-to-rear gap between 2 vehicles, which can be calculated by $x_\\text{lead}(t)-x_\\text{follow}(t) - \\frac{1}{2}(l_\\text{lead} + l_\\text{follow})$\n",
    "- $s^*(v,\\Delta v)$ is the desired dynamical gap.\n"
   ]
  },
  {
   "cell_type": "code",
   "execution_count": 4,
   "metadata": {},
   "outputs": [],
   "source": [
    "class Car:\n",
    "    \n",
    "    def __init__(self, size: float, xs: np.array = [], vs: np.array = [], a_s: np.array = []) -> None:\n",
    "        self.vs = vs  # a list consist of all velocities in all timesteps.\n",
    "        self.xs = xs\n",
    "        self.a_s = a_s\n",
    "        self.size = size"
   ]
  },
  {
   "cell_type": "code",
   "execution_count": 6,
   "metadata": {},
   "outputs": [],
   "source": [
    "## IDM models with arbitary parameters\n",
    "\n",
    "class IDM:\n",
    "    \n",
    "    def __init__(self, param: dict) -> None:\n",
    "        ## dict = {v0, s0, T, a, b}\n",
    "        self.v0 = param['v0']  # the velocity the vehicle would drive at in free traffic\n",
    "        self.s0 = param['s0'] # a minimum desired net distance.\n",
    "        self.T = param['T'] # the minimum possible time to the vehicle in front\n",
    "        self.a = param['a'] # the maximum vehicle acceleration\n",
    "        self.b = param['b'] # a positive number (comfortable breaking deceleration)\n",
    "        self.sigma = 4 # exponent factor, usually set to 4\n",
    "\n",
    "    def get_desired_s(self, v_this, delta_v_i):\n",
    "        \n",
    "        desired_s = v_this * self.T + v_this * delta_v_i / (2 * np.sqrt(self.a * self.b))\n",
    "        return self.s0 + max(0, desired_s)\n",
    "    \n",
    "    def get_new_a(self, v_this, v_front, s_this):\n",
    "        \n",
    "        delta_v_i = v_this - v_front\n",
    "        return self.a * (1 - np.power(v_this / self.v0, self.sigma) \n",
    "                            - np.power((self.get_desired_s(v_this, delta_v_i) / s_this), 2))\n",
    "    \n",
    "    def update(self, lead_car: Car, this_car: Car, time_step: float):\n",
    "        \"\"\"\n",
    "            \n",
    "        \"\"\"\n",
    "        assert this_car is not None\n",
    "        \n",
    "        N = len(lead_car.xs)\n",
    "        \n",
    "        for i in range(1, N):\n",
    "            this_v_now = this_car.vs[i - 1]\n",
    "            lead_v_now = lead_car.vs[i - 1]\n",
    "            this_s_now = this_car.xs[i - 1]\n",
    "            lead_s_now = lead_car.xs[i - 1]\n",
    "            \n",
    "            gap_now = lead_s_now - this_s_now - 1/2(lead_car.size + this_car.size)  # the distance is head's distance\n",
    "            this_v_a = self.get_new_a(this_v_now, lead_v_now, gap_now)\n",
    "            # update\n",
    "            if this_v_now + this_v_a * time_step < 0:\n",
    "                this_car.vs.append(0)\n",
    "            else:\n",
    "                this_car.vs.append(this_car.vs[i - 1] + time_step * this_v_a)\n",
    "            this_car.xs.append(this_car.xs[i - 1] + this_car.vs[i - 1] * time_step + 1 / 2 * this_v_a * pow(time_step, 2))\n",
    "            this_car.a_s.append(this_v_a)"
   ]
  },
  {
   "attachments": {},
   "cell_type": "markdown",
   "metadata": {},
   "source": [
    "### 5.1.2 Gipps' Model"
   ]
  },
  {
   "cell_type": "markdown",
   "metadata": {},
   "source": [
    "Gipps' model is the most popular safety distance model, which assumes that the speeid is selected by the driver to ensure the safety between two vehicles can be held.\n",
    "Gipps' model includes two modes of driving: free-flow and CF. The Gipps Model equations are formulated as follows:\n",
    "\n",
    "$$\n",
    "V(t+\\tau) = \\min\\left\\{\n",
    "    \n",
    "    \\begin{aligned}\n",
    "    &V(t) + 2.5a_0\\tau(1-V(t)/V^*)(0.025V(t)/V^*)^{1/2}\\\\\n",
    "    &b_0\\tau + \\sqrt{b_0^2 \\tau^2 - b_0[2s(t)-V(t)\\tau - \\frac{V'(t)^2}{b_0}]}\n",
    "    \\end{aligned}\n",
    "    \n",
    "    \n",
    "    \\right.\n",
    "$$"
   ]
  },
  {
   "cell_type": "markdown",
   "metadata": {},
   "source": [
    "due to the different mechanism under these two models, we apply different symbols and notations to describe them.\n",
    "in above models:\n",
    "- $\\tau$ is the reacting time. usually is $0.2$(s)\n",
    "- $a_0$ is the max acceleration that a vehicle can achieve.\n",
    "- $b_0$ is the min acceleration that a vehicle can achieve.\n",
    "- $V(t)$ is the velocity of the following vehicle at time $t$.\n",
    "- $V^*$ is the desired speed that the following vehicle want to achieve (i.e. in free flow mode)\n",
    "- $s(t)$ is the distance to the rear of the front vehicle $x_\\text{lead}(t)-x_\\text{follow}(t) - \\frac{1}{2}(l_\\text{lead} + l_\\text{follow})$, due to the $x$ here is the centroid of a vehicle."
   ]
  },
  {
   "cell_type": "code",
   "execution_count": 7,
   "metadata": {},
   "outputs": [],
   "source": [
    "## Gipps model\n",
    "\n",
    "class Gipps:\n",
    "    \n",
    "    def __init__(self, param) -> None:\n",
    "        self.rect_time = param[\"rect_time\"]\n",
    "        self.max_b = param[\"max_b\"]\n",
    "        self.max_a = param[\"max_a\"]\n",
    "        self.v0 = param[\"v0\"]\n",
    "\n",
    "\n",
    "    def update(self, lead_car: Car, this_car: Car, time_step: float):\n",
    "        \n",
    "        N = len(lead_car.xs)\n",
    "        this_car.a_s = None  # Gipps model doesn't need a for estimating\n",
    "        \n",
    "        for i in range(1, N):\n",
    "            \n",
    "            this_v_now = this_car.vs[i - 1]\n",
    "            lead_v_now = lead_car.vs[i - 1]\n",
    "            this_s_now = this_car.xs[i - 1]\n",
    "            lead_s_now = lead_car.xs[i - 1]\n",
    "\n",
    "            gap_now = lead_s_now - this_s_now - 1/2(lead_car.size + this_car.size)\n",
    "\n",
    "            this_v = min(- self.max_b * self.rect_time + np.sqrt(pow(self.max_b, 2) * pow(self.rect_time, 2) + self.max_b * (2*(gap_now)- self.rect_time * this_v_now + pow(lead_v_now, 2)/self.max_b)),\n",
    "                        this_v_now + 2.5 * self.max_a * self.rect_time * (1 - this_v_now / self.v0) * pow((0.025 + this_v_now / self.v0), 2))\n",
    "\n",
    "            this_car.vs.append(this_v)\n",
    "            this_car.xs.append(this_car.xs[i - 1] + this_car.vs[i - 1] * time_step)\n",
    "\n",
    "        "
   ]
  },
  {
   "cell_type": "markdown",
   "metadata": {},
   "source": [
    "### 5.1.3 Visualization for Models\n",
    "\n",
    "Even though the two models above are formualted in the form of continuous time domain, in order to simulate the car-following models on computer, we have to assume that the domain is discrete.\n",
    "\n",
    "According to the dataset, the timestep is set to be $0.1$ (s) for each entry of data. Thus, we decide to conform to that convention."
   ]
  },
  {
   "cell_type": "code",
   "execution_count": null,
   "metadata": {},
   "outputs": [],
   "source": [
    "\n",
    "CARS = np.loadtxt(PROJECT_FILE + \"data.csv\", delimiter=\",\")\n",
    "SIZES = np.loadtxt(PROJECT_FILE + \"size.csv\", delimiter=\",\")\n",
    "test_scenes = []\n",
    "sizes = []\n",
    "for i in range(1000):\n",
    "    test_scenes.append(np.squeeze(CARS[np.where(CARS[:, 0] == i), :], 0))\n",
    "    sizes.append(CARS[np.where(CARS[:, 0] == i), :])\n",
    "\n",
    "\n",
    "test_scene = test_scenes[31]\n",
    "\n",
    "print(\"TOTAL TIME STEP: %d\" %test_scene.shape[0] )\n",
    "\n",
    "\n",
    "car_front = Car(sizes[i][1], test_scene[:, 1], test_scene[:, 3], test_scene[:, 3])\n",
    "\n",
    "car_follow = Car(sizes[i][2], [test_scene[0, 4]], [test_scene[0, 5]], [test_scene[0, 6]])\n",
    "\n",
    "car_follow_real = Car(sizes[i][2], [test_scene[:, 4]], [test_scene[:, 5]], [test_scene[:, 6]])\n",
    "\n",
    "param = {\n",
    "    \"rect_time\": 0.2,\n",
    "    \"max_b\": 2,\n",
    "    \"max_a\": 2\n",
    "}\n",
    "\n",
    "gipps = Gipps(param)\n",
    "\n",
    "gipps.update(car_front, car_follow, 0.1)\n",
    "\n",
    "print(car_follow.xs)\n",
    "print(car_front.xs)\n",
    "print(car_follow_real.xs)\n",
    "\n",
    "\n",
    "plt.plot(car_front.xs, label=\"1\")\n",
    "plt.plot(car_follow.xs, label=\"2\")\n",
    "plt.plot(car_follow_real.xs[0], label=\"3\")\n",
    "plt.legend()\n",
    "plt.show()"
   ]
  },
  {
   "cell_type": "markdown",
   "metadata": {},
   "source": [
    "## 5.2 Calibration\n",
    "\n"
   ]
  },
  {
   "cell_type": "markdown",
   "metadata": {},
   "source": [
    "After deriving the models, we have to calibrate their parameters with real world data to improve their performance. However, calibrating the parameters with the real-life data is not a easy thing. \n",
    "\n",
    "First, Based on the research of Anshuman[2], in order to calibrate the IDM model, the data are required to meet the completeness condition, i.e. one scenario consists of at least A(Acceleration), D(Deceleration) and F(Following) regimes.\n",
    "Therefore, in the data preprocessing stage, we already split the data into ADF, ADF+1, ADF+2 and ADF+n for further process.\n",
    "\n",
    "Second, the popular calibration methods is Genetic Algorithms(GA), which is a method for solving optimization problems that is based on natural selection, the process that drives biological evolution. After achieving the optimal value for minimizing the loss function (which we will define later) on the train dataset, it's safe to identify that they are the approximate optimal set of parameters, due to the GA is an evolutionary algorithms, which determines that the solution it provides is local optimal, instead of global optimal.\n"
   ]
  },
  {
   "cell_type": "code",
   "execution_count": null,
   "metadata": {},
   "outputs": [],
   "source": [
    "## import dependencies\n",
    "\n",
    "from sko.GA import GA \n",
    "\n",
    "# Constant values\n",
    "\n",
    "NUM_TEST = 100\n",
    "FILE_DIR = \"D:\\DATA\\TIL6022\\data.csv\""
   ]
  },
  {
   "cell_type": "code",
   "execution_count": null,
   "metadata": {},
   "outputs": [],
   "source": [
    "def _single_test(test_scene, model):\n",
    "\n",
    "    car_front = Car(sizes[i][1], test_scene[:, 1], test_scene[:, 3], test_scene[:, 3])\n",
    "\n",
    "    car_follow = Car(sizes[i][2], [test_scene[0, 4]], [test_scene[0, 5]], [test_scene[0, 6]])\n",
    "\n",
    "    car_follow_real = Car(sizes[i][2], [test_scene[:, 4]], [test_scene[:, 5]], [test_scene[:, 6]])\n",
    "\n",
    "    LENGTH = len(car_front.xs)\n",
    "\n",
    "    model.update(car_front, car_follow, 0.1)\n",
    "    \n",
    "    return np.sqrt(1 / LENGTH * np.sum(np.square([x1 - x2 for x1, x2 in zip(car_follow_real.xs[0], car_follow.xs)])))\n",
    "\n",
    "\n",
    "def fitness(param_set):\n",
    "    global CARS, test_scenes\n",
    "\n",
    "    param = {\n",
    "                \"v0\": param_set[0],\n",
    "                \"s0\": param_set[1] / 100,\n",
    "                \"T\": param_set[2] / 100,\n",
    "                \"a\": param_set[3] / 100,\n",
    "                \"b\": param_set[4] / 100,\n",
    "                \"sigma\": 4\n",
    "                }\n",
    "\n",
    "    errors = []\n",
    "    \n",
    "    model = ()\n",
    "\n",
    "    for i in range(NUM_TEST):\n",
    "        test_scene = test_scenes[i]\n",
    "        errors.append(_single_test(test_scene, model))\n",
    "\n",
    "    return np.mean(errors)"
   ]
  },
  {
   "cell_type": "code",
   "execution_count": null,
   "metadata": {},
   "outputs": [],
   "source": [
    "\n",
    "\n",
    "CARS = np.loadtxt(FILE_DIR, delimiter=\",\")\n",
    "test_scenes = []\n",
    "for i in range(NUM_TEST):\n",
    "    test_scenes.append(np.squeeze(CARS[np.where(CARS[:, 0] == i), :], 0))\n",
    "\n",
    "\n",
    "ga = GA(func=fitness, n_dim=5, size_pop=50, max_iter=20, prob_mut=0.01, lb=[5, 10, 30, 1, 10], ub=[40, 400, 200, 600, 600], precision=1)\n",
    "result = ga.run()\n",
    "print(result)\n",
    "\n",
    "Y_history = pd.DataFrame(ga.all_history_Y)\n",
    "fig, ax = plt.subplots(2, 1)\n",
    "ax[0].plot(Y_history.index, Y_history.values, '.', color='red')\n",
    "Y_history.min(axis=1).cummin().plot(kind='line')\n",
    "plt.show()"
   ]
  },
  {
   "cell_type": "markdown",
   "metadata": {},
   "source": [
    "# 6. Limitations and further research"
   ]
  },
  {
   "cell_type": "markdown",
   "metadata": {},
   "source": [
    "# References"
   ]
  },
  {
   "cell_type": "markdown",
   "metadata": {},
   "source": [
    "1. [Large Car-following Data Based on Lyft level-5 Open Dataset: Following Autonomous Vehicles vs. Human-driven Vehicles. Guopeng Li, Yiru Jiao, Victor L. Knoop, Simeon C. Calvert, and J.W.C. van Lint](https://arxiv.org/pdf/2305.18921.pdf)\n"
   ]
  }
 ],
 "metadata": {
  "kernelspec": {
   "display_name": "Python 3",
   "language": "python",
   "name": "python3"
  },
  "language_info": {
   "codemirror_mode": {
    "name": "ipython",
    "version": 3
   },
   "file_extension": ".py",
   "mimetype": "text/x-python",
   "name": "python",
   "nbconvert_exporter": "python",
   "pygments_lexer": "ipython3",
   "version": "3.11.4"
  },
  "orig_nbformat": 4,
  "vscode": {
   "interpreter": {
    "hash": "31f2aee4e71d21fbe5cf8b01ff0e069b9275f58929596ceb00d14d90e3e16cd6"
   }
  }
 },
 "nbformat": 4,
 "nbformat_minor": 2
}
